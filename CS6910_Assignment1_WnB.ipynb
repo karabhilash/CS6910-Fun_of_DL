{
  "nbformat": 4,
  "nbformat_minor": 0,
  "metadata": {
    "colab": {
      "name": "CS6910-Assignment1-WnB.ipynb",
      "provenance": [],
      "collapsed_sections": [],
      "authorship_tag": "ABX9TyOkk/T/Gtkgxgq5MnpNpsRU",
      "include_colab_link": true
    },
    "kernelspec": {
      "display_name": "Python 3",
      "name": "python3"
    },
    "language_info": {
      "name": "python"
    },
    "widgets": {
      "application/vnd.jupyter.widget-state+json": {
        "ce9cc39cdfb24fee92e15e00f9e536db": {
          "model_module": "@jupyter-widgets/controls",
          "model_name": "VBoxModel",
          "state": {
            "_view_name": "VBoxView",
            "_dom_classes": [],
            "_model_name": "VBoxModel",
            "_view_module": "@jupyter-widgets/controls",
            "_model_module_version": "1.5.0",
            "_view_count": null,
            "_view_module_version": "1.5.0",
            "box_style": "",
            "layout": "IPY_MODEL_2770331d60284a24847f796a1434774f",
            "_model_module": "@jupyter-widgets/controls",
            "children": [
              "IPY_MODEL_672e509d8ca44f31addeff14a809f7ee",
              "IPY_MODEL_228fb363779b47549607737e4cfe277a"
            ]
          }
        },
        "2770331d60284a24847f796a1434774f": {
          "model_module": "@jupyter-widgets/base",
          "model_name": "LayoutModel",
          "state": {
            "_view_name": "LayoutView",
            "grid_template_rows": null,
            "right": null,
            "justify_content": null,
            "_view_module": "@jupyter-widgets/base",
            "overflow": null,
            "_model_module_version": "1.2.0",
            "_view_count": null,
            "flex_flow": null,
            "width": null,
            "min_width": null,
            "border": null,
            "align_items": null,
            "bottom": null,
            "_model_module": "@jupyter-widgets/base",
            "top": null,
            "grid_column": null,
            "overflow_y": null,
            "overflow_x": null,
            "grid_auto_flow": null,
            "grid_area": null,
            "grid_template_columns": null,
            "flex": null,
            "_model_name": "LayoutModel",
            "justify_items": null,
            "grid_row": null,
            "max_height": null,
            "align_content": null,
            "visibility": null,
            "align_self": null,
            "height": null,
            "min_height": null,
            "padding": null,
            "grid_auto_rows": null,
            "grid_gap": null,
            "max_width": null,
            "order": null,
            "_view_module_version": "1.2.0",
            "grid_template_areas": null,
            "object_position": null,
            "object_fit": null,
            "grid_auto_columns": null,
            "margin": null,
            "display": null,
            "left": null
          }
        },
        "672e509d8ca44f31addeff14a809f7ee": {
          "model_module": "@jupyter-widgets/controls",
          "model_name": "LabelModel",
          "state": {
            "_view_name": "LabelView",
            "style": "IPY_MODEL_cfeae367099042e9ae8c1c1e85a4e64d",
            "_dom_classes": [],
            "description": "",
            "_model_name": "LabelModel",
            "placeholder": "​",
            "_view_module": "@jupyter-widgets/controls",
            "_model_module_version": "1.5.0",
            "value": " 0.01MB of 0.01MB uploaded (0.00MB deduped)\r",
            "_view_count": null,
            "_view_module_version": "1.5.0",
            "description_tooltip": null,
            "_model_module": "@jupyter-widgets/controls",
            "layout": "IPY_MODEL_b36e3fc59c2a4829b49d7be2fbdfa5ba"
          }
        },
        "228fb363779b47549607737e4cfe277a": {
          "model_module": "@jupyter-widgets/controls",
          "model_name": "FloatProgressModel",
          "state": {
            "_view_name": "ProgressView",
            "style": "IPY_MODEL_51706fce3c104aa5b7ca8e527ec6ec4d",
            "_dom_classes": [],
            "description": "",
            "_model_name": "FloatProgressModel",
            "bar_style": "",
            "max": 1,
            "_view_module": "@jupyter-widgets/controls",
            "_model_module_version": "1.5.0",
            "value": 1,
            "_view_count": null,
            "_view_module_version": "1.5.0",
            "orientation": "horizontal",
            "min": 0,
            "description_tooltip": null,
            "_model_module": "@jupyter-widgets/controls",
            "layout": "IPY_MODEL_2b7ccce040b24a2283d05a89a0918e3c"
          }
        },
        "cfeae367099042e9ae8c1c1e85a4e64d": {
          "model_module": "@jupyter-widgets/controls",
          "model_name": "DescriptionStyleModel",
          "state": {
            "_view_name": "StyleView",
            "_model_name": "DescriptionStyleModel",
            "description_width": "",
            "_view_module": "@jupyter-widgets/base",
            "_model_module_version": "1.5.0",
            "_view_count": null,
            "_view_module_version": "1.2.0",
            "_model_module": "@jupyter-widgets/controls"
          }
        },
        "b36e3fc59c2a4829b49d7be2fbdfa5ba": {
          "model_module": "@jupyter-widgets/base",
          "model_name": "LayoutModel",
          "state": {
            "_view_name": "LayoutView",
            "grid_template_rows": null,
            "right": null,
            "justify_content": null,
            "_view_module": "@jupyter-widgets/base",
            "overflow": null,
            "_model_module_version": "1.2.0",
            "_view_count": null,
            "flex_flow": null,
            "width": null,
            "min_width": null,
            "border": null,
            "align_items": null,
            "bottom": null,
            "_model_module": "@jupyter-widgets/base",
            "top": null,
            "grid_column": null,
            "overflow_y": null,
            "overflow_x": null,
            "grid_auto_flow": null,
            "grid_area": null,
            "grid_template_columns": null,
            "flex": null,
            "_model_name": "LayoutModel",
            "justify_items": null,
            "grid_row": null,
            "max_height": null,
            "align_content": null,
            "visibility": null,
            "align_self": null,
            "height": null,
            "min_height": null,
            "padding": null,
            "grid_auto_rows": null,
            "grid_gap": null,
            "max_width": null,
            "order": null,
            "_view_module_version": "1.2.0",
            "grid_template_areas": null,
            "object_position": null,
            "object_fit": null,
            "grid_auto_columns": null,
            "margin": null,
            "display": null,
            "left": null
          }
        },
        "51706fce3c104aa5b7ca8e527ec6ec4d": {
          "model_module": "@jupyter-widgets/controls",
          "model_name": "ProgressStyleModel",
          "state": {
            "_view_name": "StyleView",
            "_model_name": "ProgressStyleModel",
            "description_width": "",
            "_view_module": "@jupyter-widgets/base",
            "_model_module_version": "1.5.0",
            "_view_count": null,
            "_view_module_version": "1.2.0",
            "bar_color": null,
            "_model_module": "@jupyter-widgets/controls"
          }
        },
        "2b7ccce040b24a2283d05a89a0918e3c": {
          "model_module": "@jupyter-widgets/base",
          "model_name": "LayoutModel",
          "state": {
            "_view_name": "LayoutView",
            "grid_template_rows": null,
            "right": null,
            "justify_content": null,
            "_view_module": "@jupyter-widgets/base",
            "overflow": null,
            "_model_module_version": "1.2.0",
            "_view_count": null,
            "flex_flow": null,
            "width": null,
            "min_width": null,
            "border": null,
            "align_items": null,
            "bottom": null,
            "_model_module": "@jupyter-widgets/base",
            "top": null,
            "grid_column": null,
            "overflow_y": null,
            "overflow_x": null,
            "grid_auto_flow": null,
            "grid_area": null,
            "grid_template_columns": null,
            "flex": null,
            "_model_name": "LayoutModel",
            "justify_items": null,
            "grid_row": null,
            "max_height": null,
            "align_content": null,
            "visibility": null,
            "align_self": null,
            "height": null,
            "min_height": null,
            "padding": null,
            "grid_auto_rows": null,
            "grid_gap": null,
            "max_width": null,
            "order": null,
            "_view_module_version": "1.2.0",
            "grid_template_areas": null,
            "object_position": null,
            "object_fit": null,
            "grid_auto_columns": null,
            "margin": null,
            "display": null,
            "left": null
          }
        },
        "be91032179b3405bb652b818356a63af": {
          "model_module": "@jupyter-widgets/controls",
          "model_name": "VBoxModel",
          "state": {
            "_view_name": "VBoxView",
            "_dom_classes": [],
            "_model_name": "VBoxModel",
            "_view_module": "@jupyter-widgets/controls",
            "_model_module_version": "1.5.0",
            "_view_count": null,
            "_view_module_version": "1.5.0",
            "box_style": "",
            "layout": "IPY_MODEL_50846218b16b40a99a676aa6a729ad63",
            "_model_module": "@jupyter-widgets/controls",
            "children": [
              "IPY_MODEL_c9714d2453cc49899db173a2053d159d",
              "IPY_MODEL_fc78244b4a5048a0a5e7d25db2bfe6ca"
            ]
          }
        },
        "50846218b16b40a99a676aa6a729ad63": {
          "model_module": "@jupyter-widgets/base",
          "model_name": "LayoutModel",
          "state": {
            "_view_name": "LayoutView",
            "grid_template_rows": null,
            "right": null,
            "justify_content": null,
            "_view_module": "@jupyter-widgets/base",
            "overflow": null,
            "_model_module_version": "1.2.0",
            "_view_count": null,
            "flex_flow": null,
            "width": null,
            "min_width": null,
            "border": null,
            "align_items": null,
            "bottom": null,
            "_model_module": "@jupyter-widgets/base",
            "top": null,
            "grid_column": null,
            "overflow_y": null,
            "overflow_x": null,
            "grid_auto_flow": null,
            "grid_area": null,
            "grid_template_columns": null,
            "flex": null,
            "_model_name": "LayoutModel",
            "justify_items": null,
            "grid_row": null,
            "max_height": null,
            "align_content": null,
            "visibility": null,
            "align_self": null,
            "height": null,
            "min_height": null,
            "padding": null,
            "grid_auto_rows": null,
            "grid_gap": null,
            "max_width": null,
            "order": null,
            "_view_module_version": "1.2.0",
            "grid_template_areas": null,
            "object_position": null,
            "object_fit": null,
            "grid_auto_columns": null,
            "margin": null,
            "display": null,
            "left": null
          }
        },
        "c9714d2453cc49899db173a2053d159d": {
          "model_module": "@jupyter-widgets/controls",
          "model_name": "LabelModel",
          "state": {
            "_view_name": "LabelView",
            "style": "IPY_MODEL_31dbe7ef14b44c0c9e197e36f2c48d61",
            "_dom_classes": [],
            "description": "",
            "_model_name": "LabelModel",
            "placeholder": "​",
            "_view_module": "@jupyter-widgets/controls",
            "_model_module_version": "1.5.0",
            "value": " 0.01MB of 0.01MB uploaded (0.00MB deduped)\r",
            "_view_count": null,
            "_view_module_version": "1.5.0",
            "description_tooltip": null,
            "_model_module": "@jupyter-widgets/controls",
            "layout": "IPY_MODEL_488fa46d2bc44c2582c86393fc8d61a0"
          }
        },
        "fc78244b4a5048a0a5e7d25db2bfe6ca": {
          "model_module": "@jupyter-widgets/controls",
          "model_name": "FloatProgressModel",
          "state": {
            "_view_name": "ProgressView",
            "style": "IPY_MODEL_02b00fd2f1ce468598d5438824feac6e",
            "_dom_classes": [],
            "description": "",
            "_model_name": "FloatProgressModel",
            "bar_style": "",
            "max": 1,
            "_view_module": "@jupyter-widgets/controls",
            "_model_module_version": "1.5.0",
            "value": 1,
            "_view_count": null,
            "_view_module_version": "1.5.0",
            "orientation": "horizontal",
            "min": 0,
            "description_tooltip": null,
            "_model_module": "@jupyter-widgets/controls",
            "layout": "IPY_MODEL_8b4d591c8ab743b6818b821868dbbb51"
          }
        },
        "31dbe7ef14b44c0c9e197e36f2c48d61": {
          "model_module": "@jupyter-widgets/controls",
          "model_name": "DescriptionStyleModel",
          "state": {
            "_view_name": "StyleView",
            "_model_name": "DescriptionStyleModel",
            "description_width": "",
            "_view_module": "@jupyter-widgets/base",
            "_model_module_version": "1.5.0",
            "_view_count": null,
            "_view_module_version": "1.2.0",
            "_model_module": "@jupyter-widgets/controls"
          }
        },
        "488fa46d2bc44c2582c86393fc8d61a0": {
          "model_module": "@jupyter-widgets/base",
          "model_name": "LayoutModel",
          "state": {
            "_view_name": "LayoutView",
            "grid_template_rows": null,
            "right": null,
            "justify_content": null,
            "_view_module": "@jupyter-widgets/base",
            "overflow": null,
            "_model_module_version": "1.2.0",
            "_view_count": null,
            "flex_flow": null,
            "width": null,
            "min_width": null,
            "border": null,
            "align_items": null,
            "bottom": null,
            "_model_module": "@jupyter-widgets/base",
            "top": null,
            "grid_column": null,
            "overflow_y": null,
            "overflow_x": null,
            "grid_auto_flow": null,
            "grid_area": null,
            "grid_template_columns": null,
            "flex": null,
            "_model_name": "LayoutModel",
            "justify_items": null,
            "grid_row": null,
            "max_height": null,
            "align_content": null,
            "visibility": null,
            "align_self": null,
            "height": null,
            "min_height": null,
            "padding": null,
            "grid_auto_rows": null,
            "grid_gap": null,
            "max_width": null,
            "order": null,
            "_view_module_version": "1.2.0",
            "grid_template_areas": null,
            "object_position": null,
            "object_fit": null,
            "grid_auto_columns": null,
            "margin": null,
            "display": null,
            "left": null
          }
        },
        "02b00fd2f1ce468598d5438824feac6e": {
          "model_module": "@jupyter-widgets/controls",
          "model_name": "ProgressStyleModel",
          "state": {
            "_view_name": "StyleView",
            "_model_name": "ProgressStyleModel",
            "description_width": "",
            "_view_module": "@jupyter-widgets/base",
            "_model_module_version": "1.5.0",
            "_view_count": null,
            "_view_module_version": "1.2.0",
            "bar_color": null,
            "_model_module": "@jupyter-widgets/controls"
          }
        },
        "8b4d591c8ab743b6818b821868dbbb51": {
          "model_module": "@jupyter-widgets/base",
          "model_name": "LayoutModel",
          "state": {
            "_view_name": "LayoutView",
            "grid_template_rows": null,
            "right": null,
            "justify_content": null,
            "_view_module": "@jupyter-widgets/base",
            "overflow": null,
            "_model_module_version": "1.2.0",
            "_view_count": null,
            "flex_flow": null,
            "width": null,
            "min_width": null,
            "border": null,
            "align_items": null,
            "bottom": null,
            "_model_module": "@jupyter-widgets/base",
            "top": null,
            "grid_column": null,
            "overflow_y": null,
            "overflow_x": null,
            "grid_auto_flow": null,
            "grid_area": null,
            "grid_template_columns": null,
            "flex": null,
            "_model_name": "LayoutModel",
            "justify_items": null,
            "grid_row": null,
            "max_height": null,
            "align_content": null,
            "visibility": null,
            "align_self": null,
            "height": null,
            "min_height": null,
            "padding": null,
            "grid_auto_rows": null,
            "grid_gap": null,
            "max_width": null,
            "order": null,
            "_view_module_version": "1.2.0",
            "grid_template_areas": null,
            "object_position": null,
            "object_fit": null,
            "grid_auto_columns": null,
            "margin": null,
            "display": null,
            "left": null
          }
        },
        "bf247dd4a63640d7b7d2f3e8ba821abd": {
          "model_module": "@jupyter-widgets/controls",
          "model_name": "VBoxModel",
          "state": {
            "_view_name": "VBoxView",
            "_dom_classes": [],
            "_model_name": "VBoxModel",
            "_view_module": "@jupyter-widgets/controls",
            "_model_module_version": "1.5.0",
            "_view_count": null,
            "_view_module_version": "1.5.0",
            "box_style": "",
            "layout": "IPY_MODEL_1401093d0fb44ac49446d50d3eab0c66",
            "_model_module": "@jupyter-widgets/controls",
            "children": [
              "IPY_MODEL_694d917c31a140b1b529f235f42a7e63",
              "IPY_MODEL_79d560bb715747beb81785382e7dbf18"
            ]
          }
        },
        "1401093d0fb44ac49446d50d3eab0c66": {
          "model_module": "@jupyter-widgets/base",
          "model_name": "LayoutModel",
          "state": {
            "_view_name": "LayoutView",
            "grid_template_rows": null,
            "right": null,
            "justify_content": null,
            "_view_module": "@jupyter-widgets/base",
            "overflow": null,
            "_model_module_version": "1.2.0",
            "_view_count": null,
            "flex_flow": null,
            "width": null,
            "min_width": null,
            "border": null,
            "align_items": null,
            "bottom": null,
            "_model_module": "@jupyter-widgets/base",
            "top": null,
            "grid_column": null,
            "overflow_y": null,
            "overflow_x": null,
            "grid_auto_flow": null,
            "grid_area": null,
            "grid_template_columns": null,
            "flex": null,
            "_model_name": "LayoutModel",
            "justify_items": null,
            "grid_row": null,
            "max_height": null,
            "align_content": null,
            "visibility": null,
            "align_self": null,
            "height": null,
            "min_height": null,
            "padding": null,
            "grid_auto_rows": null,
            "grid_gap": null,
            "max_width": null,
            "order": null,
            "_view_module_version": "1.2.0",
            "grid_template_areas": null,
            "object_position": null,
            "object_fit": null,
            "grid_auto_columns": null,
            "margin": null,
            "display": null,
            "left": null
          }
        },
        "694d917c31a140b1b529f235f42a7e63": {
          "model_module": "@jupyter-widgets/controls",
          "model_name": "LabelModel",
          "state": {
            "_view_name": "LabelView",
            "style": "IPY_MODEL_c2b655256d5b4ab9b9d04dc29b48e2f1",
            "_dom_classes": [],
            "description": "",
            "_model_name": "LabelModel",
            "placeholder": "​",
            "_view_module": "@jupyter-widgets/controls",
            "_model_module_version": "1.5.0",
            "value": " 0.01MB of 0.01MB uploaded (0.00MB deduped)\r",
            "_view_count": null,
            "_view_module_version": "1.5.0",
            "description_tooltip": null,
            "_model_module": "@jupyter-widgets/controls",
            "layout": "IPY_MODEL_22ba5822b3ee497e9bd4108b28b9177e"
          }
        },
        "79d560bb715747beb81785382e7dbf18": {
          "model_module": "@jupyter-widgets/controls",
          "model_name": "FloatProgressModel",
          "state": {
            "_view_name": "ProgressView",
            "style": "IPY_MODEL_61e1d901ff2c42aba12c14d44e4cd41f",
            "_dom_classes": [],
            "description": "",
            "_model_name": "FloatProgressModel",
            "bar_style": "",
            "max": 1,
            "_view_module": "@jupyter-widgets/controls",
            "_model_module_version": "1.5.0",
            "value": 1,
            "_view_count": null,
            "_view_module_version": "1.5.0",
            "orientation": "horizontal",
            "min": 0,
            "description_tooltip": null,
            "_model_module": "@jupyter-widgets/controls",
            "layout": "IPY_MODEL_864750a7357c4387940437977fd49784"
          }
        },
        "c2b655256d5b4ab9b9d04dc29b48e2f1": {
          "model_module": "@jupyter-widgets/controls",
          "model_name": "DescriptionStyleModel",
          "state": {
            "_view_name": "StyleView",
            "_model_name": "DescriptionStyleModel",
            "description_width": "",
            "_view_module": "@jupyter-widgets/base",
            "_model_module_version": "1.5.0",
            "_view_count": null,
            "_view_module_version": "1.2.0",
            "_model_module": "@jupyter-widgets/controls"
          }
        },
        "22ba5822b3ee497e9bd4108b28b9177e": {
          "model_module": "@jupyter-widgets/base",
          "model_name": "LayoutModel",
          "state": {
            "_view_name": "LayoutView",
            "grid_template_rows": null,
            "right": null,
            "justify_content": null,
            "_view_module": "@jupyter-widgets/base",
            "overflow": null,
            "_model_module_version": "1.2.0",
            "_view_count": null,
            "flex_flow": null,
            "width": null,
            "min_width": null,
            "border": null,
            "align_items": null,
            "bottom": null,
            "_model_module": "@jupyter-widgets/base",
            "top": null,
            "grid_column": null,
            "overflow_y": null,
            "overflow_x": null,
            "grid_auto_flow": null,
            "grid_area": null,
            "grid_template_columns": null,
            "flex": null,
            "_model_name": "LayoutModel",
            "justify_items": null,
            "grid_row": null,
            "max_height": null,
            "align_content": null,
            "visibility": null,
            "align_self": null,
            "height": null,
            "min_height": null,
            "padding": null,
            "grid_auto_rows": null,
            "grid_gap": null,
            "max_width": null,
            "order": null,
            "_view_module_version": "1.2.0",
            "grid_template_areas": null,
            "object_position": null,
            "object_fit": null,
            "grid_auto_columns": null,
            "margin": null,
            "display": null,
            "left": null
          }
        },
        "61e1d901ff2c42aba12c14d44e4cd41f": {
          "model_module": "@jupyter-widgets/controls",
          "model_name": "ProgressStyleModel",
          "state": {
            "_view_name": "StyleView",
            "_model_name": "ProgressStyleModel",
            "description_width": "",
            "_view_module": "@jupyter-widgets/base",
            "_model_module_version": "1.5.0",
            "_view_count": null,
            "_view_module_version": "1.2.0",
            "bar_color": null,
            "_model_module": "@jupyter-widgets/controls"
          }
        },
        "864750a7357c4387940437977fd49784": {
          "model_module": "@jupyter-widgets/base",
          "model_name": "LayoutModel",
          "state": {
            "_view_name": "LayoutView",
            "grid_template_rows": null,
            "right": null,
            "justify_content": null,
            "_view_module": "@jupyter-widgets/base",
            "overflow": null,
            "_model_module_version": "1.2.0",
            "_view_count": null,
            "flex_flow": null,
            "width": null,
            "min_width": null,
            "border": null,
            "align_items": null,
            "bottom": null,
            "_model_module": "@jupyter-widgets/base",
            "top": null,
            "grid_column": null,
            "overflow_y": null,
            "overflow_x": null,
            "grid_auto_flow": null,
            "grid_area": null,
            "grid_template_columns": null,
            "flex": null,
            "_model_name": "LayoutModel",
            "justify_items": null,
            "grid_row": null,
            "max_height": null,
            "align_content": null,
            "visibility": null,
            "align_self": null,
            "height": null,
            "min_height": null,
            "padding": null,
            "grid_auto_rows": null,
            "grid_gap": null,
            "max_width": null,
            "order": null,
            "_view_module_version": "1.2.0",
            "grid_template_areas": null,
            "object_position": null,
            "object_fit": null,
            "grid_auto_columns": null,
            "margin": null,
            "display": null,
            "left": null
          }
        },
        "265e2b00c97b485796b8cf2fabcbc036": {
          "model_module": "@jupyter-widgets/controls",
          "model_name": "VBoxModel",
          "state": {
            "_view_name": "VBoxView",
            "_dom_classes": [],
            "_model_name": "VBoxModel",
            "_view_module": "@jupyter-widgets/controls",
            "_model_module_version": "1.5.0",
            "_view_count": null,
            "_view_module_version": "1.5.0",
            "box_style": "",
            "layout": "IPY_MODEL_7c45be140c3b4970863b71f6435b2c34",
            "_model_module": "@jupyter-widgets/controls",
            "children": [
              "IPY_MODEL_960a12a2152e48f7a7622776a04b950a",
              "IPY_MODEL_b2f395c2d91346a380b3c84bf985de20"
            ]
          }
        },
        "7c45be140c3b4970863b71f6435b2c34": {
          "model_module": "@jupyter-widgets/base",
          "model_name": "LayoutModel",
          "state": {
            "_view_name": "LayoutView",
            "grid_template_rows": null,
            "right": null,
            "justify_content": null,
            "_view_module": "@jupyter-widgets/base",
            "overflow": null,
            "_model_module_version": "1.2.0",
            "_view_count": null,
            "flex_flow": null,
            "width": null,
            "min_width": null,
            "border": null,
            "align_items": null,
            "bottom": null,
            "_model_module": "@jupyter-widgets/base",
            "top": null,
            "grid_column": null,
            "overflow_y": null,
            "overflow_x": null,
            "grid_auto_flow": null,
            "grid_area": null,
            "grid_template_columns": null,
            "flex": null,
            "_model_name": "LayoutModel",
            "justify_items": null,
            "grid_row": null,
            "max_height": null,
            "align_content": null,
            "visibility": null,
            "align_self": null,
            "height": null,
            "min_height": null,
            "padding": null,
            "grid_auto_rows": null,
            "grid_gap": null,
            "max_width": null,
            "order": null,
            "_view_module_version": "1.2.0",
            "grid_template_areas": null,
            "object_position": null,
            "object_fit": null,
            "grid_auto_columns": null,
            "margin": null,
            "display": null,
            "left": null
          }
        },
        "960a12a2152e48f7a7622776a04b950a": {
          "model_module": "@jupyter-widgets/controls",
          "model_name": "LabelModel",
          "state": {
            "_view_name": "LabelView",
            "style": "IPY_MODEL_7751103348e4428895bdc356d0cea0a1",
            "_dom_classes": [],
            "description": "",
            "_model_name": "LabelModel",
            "placeholder": "​",
            "_view_module": "@jupyter-widgets/controls",
            "_model_module_version": "1.5.0",
            "value": " 0.01MB of 0.01MB uploaded (0.00MB deduped)\r",
            "_view_count": null,
            "_view_module_version": "1.5.0",
            "description_tooltip": null,
            "_model_module": "@jupyter-widgets/controls",
            "layout": "IPY_MODEL_f53884ff073e46ad834acf349dacd1ee"
          }
        },
        "b2f395c2d91346a380b3c84bf985de20": {
          "model_module": "@jupyter-widgets/controls",
          "model_name": "FloatProgressModel",
          "state": {
            "_view_name": "ProgressView",
            "style": "IPY_MODEL_5fa822a158814b61a8835f42d607f080",
            "_dom_classes": [],
            "description": "",
            "_model_name": "FloatProgressModel",
            "bar_style": "",
            "max": 1,
            "_view_module": "@jupyter-widgets/controls",
            "_model_module_version": "1.5.0",
            "value": 1,
            "_view_count": null,
            "_view_module_version": "1.5.0",
            "orientation": "horizontal",
            "min": 0,
            "description_tooltip": null,
            "_model_module": "@jupyter-widgets/controls",
            "layout": "IPY_MODEL_1b8e5b7464ed43f48fc62145b94e0b0c"
          }
        },
        "7751103348e4428895bdc356d0cea0a1": {
          "model_module": "@jupyter-widgets/controls",
          "model_name": "DescriptionStyleModel",
          "state": {
            "_view_name": "StyleView",
            "_model_name": "DescriptionStyleModel",
            "description_width": "",
            "_view_module": "@jupyter-widgets/base",
            "_model_module_version": "1.5.0",
            "_view_count": null,
            "_view_module_version": "1.2.0",
            "_model_module": "@jupyter-widgets/controls"
          }
        },
        "f53884ff073e46ad834acf349dacd1ee": {
          "model_module": "@jupyter-widgets/base",
          "model_name": "LayoutModel",
          "state": {
            "_view_name": "LayoutView",
            "grid_template_rows": null,
            "right": null,
            "justify_content": null,
            "_view_module": "@jupyter-widgets/base",
            "overflow": null,
            "_model_module_version": "1.2.0",
            "_view_count": null,
            "flex_flow": null,
            "width": null,
            "min_width": null,
            "border": null,
            "align_items": null,
            "bottom": null,
            "_model_module": "@jupyter-widgets/base",
            "top": null,
            "grid_column": null,
            "overflow_y": null,
            "overflow_x": null,
            "grid_auto_flow": null,
            "grid_area": null,
            "grid_template_columns": null,
            "flex": null,
            "_model_name": "LayoutModel",
            "justify_items": null,
            "grid_row": null,
            "max_height": null,
            "align_content": null,
            "visibility": null,
            "align_self": null,
            "height": null,
            "min_height": null,
            "padding": null,
            "grid_auto_rows": null,
            "grid_gap": null,
            "max_width": null,
            "order": null,
            "_view_module_version": "1.2.0",
            "grid_template_areas": null,
            "object_position": null,
            "object_fit": null,
            "grid_auto_columns": null,
            "margin": null,
            "display": null,
            "left": null
          }
        },
        "5fa822a158814b61a8835f42d607f080": {
          "model_module": "@jupyter-widgets/controls",
          "model_name": "ProgressStyleModel",
          "state": {
            "_view_name": "StyleView",
            "_model_name": "ProgressStyleModel",
            "description_width": "",
            "_view_module": "@jupyter-widgets/base",
            "_model_module_version": "1.5.0",
            "_view_count": null,
            "_view_module_version": "1.2.0",
            "bar_color": null,
            "_model_module": "@jupyter-widgets/controls"
          }
        },
        "1b8e5b7464ed43f48fc62145b94e0b0c": {
          "model_module": "@jupyter-widgets/base",
          "model_name": "LayoutModel",
          "state": {
            "_view_name": "LayoutView",
            "grid_template_rows": null,
            "right": null,
            "justify_content": null,
            "_view_module": "@jupyter-widgets/base",
            "overflow": null,
            "_model_module_version": "1.2.0",
            "_view_count": null,
            "flex_flow": null,
            "width": null,
            "min_width": null,
            "border": null,
            "align_items": null,
            "bottom": null,
            "_model_module": "@jupyter-widgets/base",
            "top": null,
            "grid_column": null,
            "overflow_y": null,
            "overflow_x": null,
            "grid_auto_flow": null,
            "grid_area": null,
            "grid_template_columns": null,
            "flex": null,
            "_model_name": "LayoutModel",
            "justify_items": null,
            "grid_row": null,
            "max_height": null,
            "align_content": null,
            "visibility": null,
            "align_self": null,
            "height": null,
            "min_height": null,
            "padding": null,
            "grid_auto_rows": null,
            "grid_gap": null,
            "max_width": null,
            "order": null,
            "_view_module_version": "1.2.0",
            "grid_template_areas": null,
            "object_position": null,
            "object_fit": null,
            "grid_auto_columns": null,
            "margin": null,
            "display": null,
            "left": null
          }
        },
        "edca9aeab4744164b8049549c555ad2b": {
          "model_module": "@jupyter-widgets/controls",
          "model_name": "VBoxModel",
          "state": {
            "_view_name": "VBoxView",
            "_dom_classes": [],
            "_model_name": "VBoxModel",
            "_view_module": "@jupyter-widgets/controls",
            "_model_module_version": "1.5.0",
            "_view_count": null,
            "_view_module_version": "1.5.0",
            "box_style": "",
            "layout": "IPY_MODEL_524be8acf14645c6a88c0f553977b50f",
            "_model_module": "@jupyter-widgets/controls",
            "children": [
              "IPY_MODEL_0e10f4fc320e4df78f9e35e430c235a8",
              "IPY_MODEL_21808e863ded40739ab7ced23c314e69"
            ]
          }
        },
        "524be8acf14645c6a88c0f553977b50f": {
          "model_module": "@jupyter-widgets/base",
          "model_name": "LayoutModel",
          "state": {
            "_view_name": "LayoutView",
            "grid_template_rows": null,
            "right": null,
            "justify_content": null,
            "_view_module": "@jupyter-widgets/base",
            "overflow": null,
            "_model_module_version": "1.2.0",
            "_view_count": null,
            "flex_flow": null,
            "width": null,
            "min_width": null,
            "border": null,
            "align_items": null,
            "bottom": null,
            "_model_module": "@jupyter-widgets/base",
            "top": null,
            "grid_column": null,
            "overflow_y": null,
            "overflow_x": null,
            "grid_auto_flow": null,
            "grid_area": null,
            "grid_template_columns": null,
            "flex": null,
            "_model_name": "LayoutModel",
            "justify_items": null,
            "grid_row": null,
            "max_height": null,
            "align_content": null,
            "visibility": null,
            "align_self": null,
            "height": null,
            "min_height": null,
            "padding": null,
            "grid_auto_rows": null,
            "grid_gap": null,
            "max_width": null,
            "order": null,
            "_view_module_version": "1.2.0",
            "grid_template_areas": null,
            "object_position": null,
            "object_fit": null,
            "grid_auto_columns": null,
            "margin": null,
            "display": null,
            "left": null
          }
        },
        "0e10f4fc320e4df78f9e35e430c235a8": {
          "model_module": "@jupyter-widgets/controls",
          "model_name": "LabelModel",
          "state": {
            "_view_name": "LabelView",
            "style": "IPY_MODEL_099181ee94de44adbe36364d79ba3375",
            "_dom_classes": [],
            "description": "",
            "_model_name": "LabelModel",
            "placeholder": "​",
            "_view_module": "@jupyter-widgets/controls",
            "_model_module_version": "1.5.0",
            "value": " 0.10MB of 0.10MB uploaded (0.00MB deduped)\r",
            "_view_count": null,
            "_view_module_version": "1.5.0",
            "description_tooltip": null,
            "_model_module": "@jupyter-widgets/controls",
            "layout": "IPY_MODEL_d25d4e917cbd4148bc962d2f67d06a5e"
          }
        },
        "21808e863ded40739ab7ced23c314e69": {
          "model_module": "@jupyter-widgets/controls",
          "model_name": "FloatProgressModel",
          "state": {
            "_view_name": "ProgressView",
            "style": "IPY_MODEL_20e6b9eae2dc4672bba5ff47e7b503f0",
            "_dom_classes": [],
            "description": "",
            "_model_name": "FloatProgressModel",
            "bar_style": "",
            "max": 1,
            "_view_module": "@jupyter-widgets/controls",
            "_model_module_version": "1.5.0",
            "value": 1,
            "_view_count": null,
            "_view_module_version": "1.5.0",
            "orientation": "horizontal",
            "min": 0,
            "description_tooltip": null,
            "_model_module": "@jupyter-widgets/controls",
            "layout": "IPY_MODEL_10d6cecf8dfa46f9a716f132f90255ae"
          }
        },
        "099181ee94de44adbe36364d79ba3375": {
          "model_module": "@jupyter-widgets/controls",
          "model_name": "DescriptionStyleModel",
          "state": {
            "_view_name": "StyleView",
            "_model_name": "DescriptionStyleModel",
            "description_width": "",
            "_view_module": "@jupyter-widgets/base",
            "_model_module_version": "1.5.0",
            "_view_count": null,
            "_view_module_version": "1.2.0",
            "_model_module": "@jupyter-widgets/controls"
          }
        },
        "d25d4e917cbd4148bc962d2f67d06a5e": {
          "model_module": "@jupyter-widgets/base",
          "model_name": "LayoutModel",
          "state": {
            "_view_name": "LayoutView",
            "grid_template_rows": null,
            "right": null,
            "justify_content": null,
            "_view_module": "@jupyter-widgets/base",
            "overflow": null,
            "_model_module_version": "1.2.0",
            "_view_count": null,
            "flex_flow": null,
            "width": null,
            "min_width": null,
            "border": null,
            "align_items": null,
            "bottom": null,
            "_model_module": "@jupyter-widgets/base",
            "top": null,
            "grid_column": null,
            "overflow_y": null,
            "overflow_x": null,
            "grid_auto_flow": null,
            "grid_area": null,
            "grid_template_columns": null,
            "flex": null,
            "_model_name": "LayoutModel",
            "justify_items": null,
            "grid_row": null,
            "max_height": null,
            "align_content": null,
            "visibility": null,
            "align_self": null,
            "height": null,
            "min_height": null,
            "padding": null,
            "grid_auto_rows": null,
            "grid_gap": null,
            "max_width": null,
            "order": null,
            "_view_module_version": "1.2.0",
            "grid_template_areas": null,
            "object_position": null,
            "object_fit": null,
            "grid_auto_columns": null,
            "margin": null,
            "display": null,
            "left": null
          }
        },
        "20e6b9eae2dc4672bba5ff47e7b503f0": {
          "model_module": "@jupyter-widgets/controls",
          "model_name": "ProgressStyleModel",
          "state": {
            "_view_name": "StyleView",
            "_model_name": "ProgressStyleModel",
            "description_width": "",
            "_view_module": "@jupyter-widgets/base",
            "_model_module_version": "1.5.0",
            "_view_count": null,
            "_view_module_version": "1.2.0",
            "bar_color": null,
            "_model_module": "@jupyter-widgets/controls"
          }
        },
        "10d6cecf8dfa46f9a716f132f90255ae": {
          "model_module": "@jupyter-widgets/base",
          "model_name": "LayoutModel",
          "state": {
            "_view_name": "LayoutView",
            "grid_template_rows": null,
            "right": null,
            "justify_content": null,
            "_view_module": "@jupyter-widgets/base",
            "overflow": null,
            "_model_module_version": "1.2.0",
            "_view_count": null,
            "flex_flow": null,
            "width": null,
            "min_width": null,
            "border": null,
            "align_items": null,
            "bottom": null,
            "_model_module": "@jupyter-widgets/base",
            "top": null,
            "grid_column": null,
            "overflow_y": null,
            "overflow_x": null,
            "grid_auto_flow": null,
            "grid_area": null,
            "grid_template_columns": null,
            "flex": null,
            "_model_name": "LayoutModel",
            "justify_items": null,
            "grid_row": null,
            "max_height": null,
            "align_content": null,
            "visibility": null,
            "align_self": null,
            "height": null,
            "min_height": null,
            "padding": null,
            "grid_auto_rows": null,
            "grid_gap": null,
            "max_width": null,
            "order": null,
            "_view_module_version": "1.2.0",
            "grid_template_areas": null,
            "object_position": null,
            "object_fit": null,
            "grid_auto_columns": null,
            "margin": null,
            "display": null,
            "left": null
          }
        }
      }
    }
  },
  "cells": [
    {
      "cell_type": "markdown",
      "metadata": {
        "id": "view-in-github",
        "colab_type": "text"
      },
      "source": [
        "<a href=\"https://colab.research.google.com/github/karabhilash/CS6910-Fun_of_DL/blob/main/CS6910_Assignment1_WnB.ipynb\" target=\"_parent\"><img src=\"https://colab.research.google.com/assets/colab-badge.svg\" alt=\"Open In Colab\"/></a>"
      ]
    },
    {
      "cell_type": "code",
      "metadata": {
        "colab": {
          "base_uri": "https://localhost:8080/"
        },
        "id": "_LoQQQKm7P_y",
        "outputId": "955381e4-640c-40dc-f66b-25f95f33fea5"
      },
      "source": [
        "!pip install wandb\n",
        "import wandb"
      ],
      "execution_count": 1,
      "outputs": [
        {
          "output_type": "stream",
          "text": [
            "Collecting wandb\n",
            "\u001b[?25l  Downloading https://files.pythonhosted.org/packages/d4/f6/91c07f54c2162854f5028aaa13f576ca17a3bc0cf6da02c2ad5baddae128/wandb-0.10.33-py2.py3-none-any.whl (1.8MB)\n",
            "\u001b[K     |████████████████████████████████| 1.8MB 6.7MB/s \n",
            "\u001b[?25hRequirement already satisfied: Click!=8.0.0,>=7.0 in /usr/local/lib/python3.7/dist-packages (from wandb) (7.1.2)\n",
            "Collecting docker-pycreds>=0.4.0\n",
            "  Downloading https://files.pythonhosted.org/packages/f5/e8/f6bd1eee09314e7e6dee49cbe2c5e22314ccdb38db16c9fc72d2fa80d054/docker_pycreds-0.4.0-py2.py3-none-any.whl\n",
            "Collecting GitPython>=1.0.0\n",
            "\u001b[?25l  Downloading https://files.pythonhosted.org/packages/bc/91/b38c4fabb6e5092ab23492ded4f318ab7299b19263272b703478038c0fbc/GitPython-3.1.18-py3-none-any.whl (170kB)\n",
            "\u001b[K     |████████████████████████████████| 174kB 25.0MB/s \n",
            "\u001b[?25hCollecting configparser>=3.8.1\n",
            "  Downloading https://files.pythonhosted.org/packages/fd/01/ff260a18caaf4457eb028c96eeb405c4a230ca06c8ec9c1379f813caa52e/configparser-5.0.2-py3-none-any.whl\n",
            "Collecting subprocess32>=3.5.3\n",
            "\u001b[?25l  Downloading https://files.pythonhosted.org/packages/32/c8/564be4d12629b912ea431f1a50eb8b3b9d00f1a0b1ceff17f266be190007/subprocess32-3.5.4.tar.gz (97kB)\n",
            "\u001b[K     |████████████████████████████████| 102kB 8.8MB/s \n",
            "\u001b[?25hCollecting shortuuid>=0.5.0\n",
            "  Downloading https://files.pythonhosted.org/packages/25/a6/2ecc1daa6a304e7f1b216f0896b26156b78e7c38e1211e9b798b4716c53d/shortuuid-1.0.1-py3-none-any.whl\n",
            "Requirement already satisfied: protobuf>=3.12.0 in /usr/local/lib/python3.7/dist-packages (from wandb) (3.12.4)\n",
            "Collecting pathtools\n",
            "  Downloading https://files.pythonhosted.org/packages/e7/7f/470d6fcdf23f9f3518f6b0b76be9df16dcc8630ad409947f8be2eb0ed13a/pathtools-0.1.2.tar.gz\n",
            "Requirement already satisfied: psutil>=5.0.0 in /usr/local/lib/python3.7/dist-packages (from wandb) (5.4.8)\n",
            "Requirement already satisfied: promise<3,>=2.0 in /usr/local/lib/python3.7/dist-packages (from wandb) (2.3)\n",
            "Requirement already satisfied: requests<3,>=2.0.0 in /usr/local/lib/python3.7/dist-packages (from wandb) (2.23.0)\n",
            "Requirement already satisfied: six>=1.13.0 in /usr/local/lib/python3.7/dist-packages (from wandb) (1.15.0)\n",
            "Collecting sentry-sdk>=0.4.0\n",
            "\u001b[?25l  Downloading https://files.pythonhosted.org/packages/1c/4a/a54b254f67d8f4052338d54ebe90126f200693440a93ef76d254d581e3ec/sentry_sdk-1.1.0-py2.py3-none-any.whl (131kB)\n",
            "\u001b[K     |████████████████████████████████| 133kB 23.1MB/s \n",
            "\u001b[?25hRequirement already satisfied: PyYAML in /usr/local/lib/python3.7/dist-packages (from wandb) (3.13)\n",
            "Requirement already satisfied: python-dateutil>=2.6.1 in /usr/local/lib/python3.7/dist-packages (from wandb) (2.8.1)\n",
            "Collecting gitdb<5,>=4.0.1\n",
            "\u001b[?25l  Downloading https://files.pythonhosted.org/packages/ea/e8/f414d1a4f0bbc668ed441f74f44c116d9816833a48bf81d22b697090dba8/gitdb-4.0.7-py3-none-any.whl (63kB)\n",
            "\u001b[K     |████████████████████████████████| 71kB 7.1MB/s \n",
            "\u001b[?25hRequirement already satisfied: typing-extensions>=3.7.4.0; python_version < \"3.8\" in /usr/local/lib/python3.7/dist-packages (from GitPython>=1.0.0->wandb) (3.7.4.3)\n",
            "Requirement already satisfied: setuptools in /usr/local/lib/python3.7/dist-packages (from protobuf>=3.12.0->wandb) (57.0.0)\n",
            "Requirement already satisfied: chardet<4,>=3.0.2 in /usr/local/lib/python3.7/dist-packages (from requests<3,>=2.0.0->wandb) (3.0.4)\n",
            "Requirement already satisfied: idna<3,>=2.5 in /usr/local/lib/python3.7/dist-packages (from requests<3,>=2.0.0->wandb) (2.10)\n",
            "Requirement already satisfied: certifi>=2017.4.17 in /usr/local/lib/python3.7/dist-packages (from requests<3,>=2.0.0->wandb) (2021.5.30)\n",
            "Requirement already satisfied: urllib3!=1.25.0,!=1.25.1,<1.26,>=1.21.1 in /usr/local/lib/python3.7/dist-packages (from requests<3,>=2.0.0->wandb) (1.24.3)\n",
            "Collecting smmap<5,>=3.0.1\n",
            "  Downloading https://files.pythonhosted.org/packages/68/ee/d540eb5e5996eb81c26ceffac6ee49041d473bc5125f2aa995cf51ec1cf1/smmap-4.0.0-py2.py3-none-any.whl\n",
            "Building wheels for collected packages: subprocess32, pathtools\n",
            "  Building wheel for subprocess32 (setup.py) ... \u001b[?25l\u001b[?25hdone\n",
            "  Created wheel for subprocess32: filename=subprocess32-3.5.4-cp37-none-any.whl size=6502 sha256=63300f72ea990162bdd2dd57a797da007a0f4f8257a2173755894da2fc0574f5\n",
            "  Stored in directory: /root/.cache/pip/wheels/68/39/1a/5e402bdfdf004af1786c8b853fd92f8c4a04f22aad179654d1\n",
            "  Building wheel for pathtools (setup.py) ... \u001b[?25l\u001b[?25hdone\n",
            "  Created wheel for pathtools: filename=pathtools-0.1.2-cp37-none-any.whl size=8807 sha256=50190b3cb86950649744f371a89a19eb80a6d7c8149b377ff7da7214e54f201e\n",
            "  Stored in directory: /root/.cache/pip/wheels/0b/04/79/c3b0c3a0266a3cb4376da31e5bfe8bba0c489246968a68e843\n",
            "Successfully built subprocess32 pathtools\n",
            "Installing collected packages: docker-pycreds, smmap, gitdb, GitPython, configparser, subprocess32, shortuuid, pathtools, sentry-sdk, wandb\n",
            "Successfully installed GitPython-3.1.18 configparser-5.0.2 docker-pycreds-0.4.0 gitdb-4.0.7 pathtools-0.1.2 sentry-sdk-1.1.0 shortuuid-1.0.1 smmap-4.0.0 subprocess32-3.5.4 wandb-0.10.33\n"
          ],
          "name": "stdout"
        }
      ]
    },
    {
      "cell_type": "code",
      "metadata": {
        "id": "wksnQeXyhP_T"
      },
      "source": [
        "wandb.finish()"
      ],
      "execution_count": null,
      "outputs": []
    },
    {
      "cell_type": "code",
      "metadata": {
        "id": "Z9wdZ4KT7xBA"
      },
      "source": [
        "import numpy as np\n",
        "import matplotlib.pyplot as plt\n",
        "import matplotlib.colors\n",
        "from sklearn.metrics import  mean_squared_error\n",
        "import tensorflow as tf\n",
        "from sklearn.metrics import log_loss\n",
        "from sklearn.model_selection import train_test_split\n",
        "import scipy as sp\n",
        "import time\n",
        "from sklearn.metrics import f1_score, precision_score, recall_score, accuracy_score, log_loss, confusion_matrix\n",
        "from sklearn.preprocessing import OneHotEncoder\n",
        "def passfn():\n",
        "    pass\n",
        "from sklearn.metrics import mean_squared_error\n",
        "from scipy.special import expit"
      ],
      "execution_count": 2,
      "outputs": []
    },
    {
      "cell_type": "code",
      "metadata": {
        "id": "HX-VVaZ_9mHs"
      },
      "source": [
        "def softmax(x):\n",
        "    Z= x-max(x)\n",
        "    return np.exp(Z) / np.sum(np.exp(Z))\n",
        "def relu(Z):\n",
        "  x = np.divide(Z, np.max(Z.T, axis=1))\n",
        "  return np.maximum(0,x)\n",
        "\n",
        "def tanh(Z):\n",
        "  return np.tanh(Z)\n",
        "\n",
        "def sigmoid(z):\n",
        "  return expit(z)\n",
        "\n",
        "def deriv_tanh(z):\n",
        "  return 1 - np.tanh(z) ** 2\n",
        "\n",
        "def deriv_relu(z):\n",
        "  return np.array([1 if z[i]>0 else 0 for i in range(len(z))]).reshape(z.shape)  \n",
        "def deriv_sigmoid(z):\n",
        "  sgm = sigmoid(z)\n",
        "  return sgm*(1-sgm)"
      ],
      "execution_count": 3,
      "outputs": []
    },
    {
      "cell_type": "markdown",
      "metadata": {
        "id": "_soxOKOBFgRi"
      },
      "source": [
        "### Question 1 : Visualising the dataset"
      ]
    },
    {
      "cell_type": "code",
      "metadata": {
        "colab": {
          "base_uri": "https://localhost:8080/"
        },
        "id": "HRN9xL-uFfjM",
        "outputId": "da2831f9-8a93-44b4-f0f5-c2cfac47d158"
      },
      "source": [
        "from keras.datasets import fashion_mnist\n",
        "(train_images, train_labels), (test_images, test_labels) = fashion_mnist.load_data()\n"
      ],
      "execution_count": 4,
      "outputs": [
        {
          "output_type": "stream",
          "text": [
            "Downloading data from https://storage.googleapis.com/tensorflow/tf-keras-datasets/train-labels-idx1-ubyte.gz\n",
            "32768/29515 [=================================] - 0s 0us/step\n",
            "40960/29515 [=========================================] - 0s 0us/step\n",
            "Downloading data from https://storage.googleapis.com/tensorflow/tf-keras-datasets/train-images-idx3-ubyte.gz\n",
            "26427392/26421880 [==============================] - 0s 0us/step\n",
            "26435584/26421880 [==============================] - 0s 0us/step\n",
            "Downloading data from https://storage.googleapis.com/tensorflow/tf-keras-datasets/t10k-labels-idx1-ubyte.gz\n",
            "16384/5148 [===============================================================================================] - 0s 0us/step\n",
            "Downloading data from https://storage.googleapis.com/tensorflow/tf-keras-datasets/t10k-images-idx3-ubyte.gz\n",
            "4423680/4422102 [==============================] - 0s 0us/step\n",
            "4431872/4422102 [==============================] - 0s 0us/step\n"
          ],
          "name": "stdout"
        }
      ]
    },
    {
      "cell_type": "code",
      "metadata": {
        "id": "gIxc1jqxW_q-"
      },
      "source": [
        "\n",
        "train_images,val_images,train_labels,val_labels = train_test_split(train_images,train_labels,test_size=0.1,shuffle=False)\n",
        "\n"
      ],
      "execution_count": 5,
      "outputs": []
    },
    {
      "cell_type": "code",
      "metadata": {
        "colab": {
          "base_uri": "https://localhost:8080/",
          "height": 653
        },
        "id": "MrgOkKf-CCXO",
        "outputId": "e54ca72d-a0ea-4a7f-b636-d8d89df9c29b"
      },
      "source": [
        "\n",
        "fig , ax =plt.subplots(2,5,figsize=(15,15))\n",
        "for i in range(10):\n",
        "  for j in train_labels:\n",
        "    if i==j :\n",
        "      ax[i//5,i%5].imshow(train_images[j],cmap='gray')\n",
        "      ax[i//5,i%5].set_title(\"class \"+str(i))\n",
        "      break\n"
      ],
      "execution_count": 6,
      "outputs": [
        {
          "output_type": "display_data",
          "data": {
            "image/png": "[encoded data removed]",
            "text/plain": [
              "<Figure size 1080x1080 with 10 Axes>"
            ]
          },
          "metadata": {
            "tags": [],
            "needs_background": "light"
          }
        }
      ]
    },
    {
      "cell_type": "code",
      "metadata": {
        "id": "doNRLCHCq8fN"
      },
      "source": [
        "###Initializers\n",
        "\n",
        "def random_normal_init(size):\n",
        "    return np.random.normal(size=size)\n",
        "\n",
        "def xavier_init(size):\n",
        "  xavier_stddev = np.sqrt(2 /(sum(size)))\n",
        "  return np.random.normal(0,xavier_stddev,size=size)\n",
        "def unisonShuffleDataset(a, b):\n",
        "    assert len(a) == len(b)\n",
        "    p = np.random.permutation(len(a))\n",
        "    return a[p], b[p]"
      ],
      "execution_count": 7,
      "outputs": []
    },
    {
      "cell_type": "markdown",
      "metadata": {
        "id": "Z59-yc_iK4Dq"
      },
      "source": [
        "### Question 2 : FeedForward Neural Network"
      ]
    },
    {
      "cell_type": "code",
      "metadata": {
        "id": "-Lg2YK_e--mU"
      },
      "source": [
        "\n",
        "class NeuralNet:\n",
        "    def __init__(\n",
        "        self, \n",
        "        num_layers_hidden, \n",
        "        num_neurons, \n",
        "\n",
        "        train_images,\n",
        "        train_labels,\n",
        "        val_images,\n",
        "        val_labels,\n",
        "        test_images,\n",
        "        test_labels,\n",
        "\n",
        "        max_epochs,\n",
        "        batch_size,\n",
        "        weight_decay,\n",
        "        learning_rate,\n",
        "        optimizer,\n",
        "        activation,\n",
        "        activation_deriv,\n",
        "        initializer,\n",
        "        loss\n",
        "\n",
        "    ):\n",
        "        self.num_layers = num_layers_hidden+2\n",
        "        self.max_epoch=max_epochs\n",
        "        self.batch_size = batch_size\n",
        "        self.weight_decay = weight_decay\n",
        "        self.learning_rate = learning_rate\n",
        "\n",
        "        dict_opt = {\"sgd\":self.miniSGD, \"mgd\":self.MomentumGD, \"nag\":self.Nag, \"rmsProp\":self.rmsProp, \"adam\":self.adam,\"nadam\":self.nadam}\n",
        "        self.optimizer = dict_opt[optimizer]\n",
        "        self.activation = activation\n",
        "        self.activation_deriv = activation_deriv\n",
        "        self.initializer = initializer\n",
        "        self.loss_function = loss\n",
        "\n",
        "        self.neurons = num_neurons\n",
        "        assert  len(self.neurons) == num_layers_hidden\n",
        "        self.input_flattened_size = train_images.shape[1]*train_images.shape[2]\n",
        "        self.output_layer_size = np.max(train_labels)+1\n",
        "\n",
        "        self.layer_dims = [self.input_flattened_size] + self.neurons + [self.output_layer_size]\n",
        "\n",
        "\n",
        "        self.train_images=train_images\n",
        "        self.train_labels=train_labels\n",
        "        self.val_images=val_images\n",
        "        self.val_labels=val_labels\n",
        "        self.test_images=test_images\n",
        "        self.test_labels=test_labels\n",
        "\n",
        "        self.loss = loss\n",
        "        self.weights,self.biases = self.initializeWB(self.layer_dims)\n",
        "\n",
        "\n",
        "    def initializeWB(self,layers):\n",
        "        weights = []\n",
        "        biases = []\n",
        "        for i in range(len(layers)-1):\n",
        "            Wi = self.initializer((layers[i+1],layers[i]))\n",
        "            Bi  = np.zeros( (layers[i+1],1))\n",
        "            weights+=[Wi]\n",
        "            biases+=[Bi]\n",
        "        return weights,biases\n",
        "\n",
        "    def InitZero(self,layers):\n",
        "        weights = []\n",
        "        biases = []\n",
        "        for i in range(len(layers)-1):\n",
        "            Wi = np.zeros((layers[i+1],layers[i]))\n",
        "            Bi  = np.zeros( (layers[i+1],1))\n",
        "            weights+=[Wi]\n",
        "            biases+=[Bi]\n",
        "        return weights,biases\n",
        "\n",
        "\n",
        "    def forward_propagation(self,input,weights,biases):\n",
        "         activations = [input]\n",
        "         preactivations = [input]\n",
        "         x = input\n",
        "         num_layers = self.num_layers\n",
        "         \n",
        "\n",
        "         for i in range(num_layers-2):\n",
        "             W = weights[i]\n",
        "             b  = biases[i].reshape((-1,1))\n",
        "             preactivations+=[ np.add( np.matmul(W,activations[-1]) ,b)]\n",
        "             activations+=[ self.activation(preactivations[-1]) ]\n",
        "         W = weights[num_layers-2]\n",
        "         b = biases[num_layers-2].reshape((-1,1))\n",
        "         \n",
        "         preactivations+= [ np.add( np.matmul(W,activations[-1]) ,b) ]\n",
        "         activations+= [ softmax(preactivations[-1]) ]\n",
        "         return activations[-1], activations, preactivations \n",
        "\n",
        "    def predict(self,input):\n",
        "        pred  = []\n",
        "        for i in input:\n",
        "            res,_,_ = self.forward_propagation(i.reshape(self.input_flattened_size,1),self.weights,self.biases)\n",
        "            pred+=[res]\n",
        "        return np.array(pred)\n",
        "\n",
        "    def back_prop(self,h,a,y):\n",
        "        \n",
        "        gW = {}\n",
        "        gB = {}\n",
        "        gA = {}\n",
        "        gH = {}\n",
        "        N=self.num_layers-1\n",
        "        assert N+1 == len(h)\n",
        "        \n",
        "        gA[N] = h[N]-y   #assuming one-hot y\n",
        "        for i in range(N,0,-1):\n",
        "            \n",
        "            gW[i]=np.matmul(gA[i],h[i-1].T)+ (self.weight_decay *  self.weights[i-1])\n",
        "            gB[i]=gA[i] \n",
        "            gH[i-1]=np.matmul(self.weights[i-1].T,gA[i])\n",
        "            gA[i-1] = np.multiply(gH[i-1],self.activation_deriv(a[i-1]))\n",
        "        return gW,gB\n",
        "\n",
        "\n",
        "    def update_wb(self,dw,db):\n",
        "        for i in range(self.num_layers -1):\n",
        "            self.weights[i]-= dw[i]\n",
        "            self.biases[i]-= db[i]\n",
        "            \n",
        "    def labelize(self,dist):\n",
        "        return np.argmax(dist.reshape(self.output_layer_size,1),axis=0)\n",
        "    def accuracy(self,y_pred,y_train,N_train):\n",
        "        c=0\n",
        "        y_pre = []\n",
        "        y_true = []\n",
        "        for i in range(N_train):\n",
        "            y_pre += [self.labelize(y_pred[i])]\n",
        "            y_true += [self.labelize(y_train[i])]\n",
        "            if y_pre[i]==y_true[i]:\n",
        "                c+=1\n",
        "        return (c/N_train)\n",
        "                   \n",
        "\n",
        "    def miniSGD(self,epochs,N_train):\n",
        "        trainingloss = []\n",
        "        trainingaccuracy = []\n",
        "        validationaccuracy = []\n",
        "\n",
        "        X_train  = self.train_images.reshape(self.train_images.shape[0],self.input_flattened_size,1 )/255\n",
        "        y_train  = (OneHotEncoder().fit_transform(self.train_labels.reshape((-1,1)))).todense()\n",
        "\n",
        "        N_val = self.val_images.shape[0]\n",
        "        X_val  = self.val_images.reshape(N_val,self.input_flattened_size,1 )/255\n",
        "        y_val  = (OneHotEncoder().fit_transform(self.val_labels.reshape((-1,1)))).todense()\n",
        "\n",
        "        for e in range(epochs):\n",
        "            start_time = time.time()\n",
        "            # X_train,_,y_train,_ = train_test_split(X_train,y_train,test_size=0)  #for shuffling\n",
        "            unisonShuffleDataset(X_train,y_train)\n",
        "            tr_loss = []\n",
        "            dw,db=[],[]\n",
        "            for i in range(self.num_layers-1 ):\n",
        "                dw+= [np.zeros( (self.layer_dims[i+1],self.layer_dims[i]) )]\n",
        "                db+= [np.zeros( (self.layer_dims[i+1],1) )]\n",
        "            l2_reg_loss =0\n",
        "            num_samples_done =0\n",
        "            for i in range(N_train):\n",
        "                #print(i)\n",
        "                y_hat,h,a = self.forward_propagation(X_train[i].reshape(self.input_flattened_size,1),self.weights,self.biases)\n",
        "                grad_w,grad_b = self.back_prop(h,a,y_train[i].reshape(-1,1))\n",
        "\n",
        "\n",
        "                for j in range(1,self.num_layers ):\n",
        "                    dw[j-1]= dw[j-1]+np.asarray(grad_w[j])\n",
        "                    db[j-1]+=grad_b[j]\n",
        "                \n",
        "                num_samples_done+=1\n",
        "                if num_samples_done%self.batch_size == 0:\n",
        "                    self.update_wb([self.learning_rate*(dw[i]/self.batch_size) for i in range(self.num_layers-1)],[self.learning_rate*(db[i]/self.batch_size) for i in range(self.num_layers-1)])\n",
        "                    dw,db = self.InitZero(self.layer_dims)\n",
        "                l2reg_loss = self.weight_decay* np.sum([(np.linalg.norm(self.weights[i]))**2 for i in range(len(self.weights)) ])\n",
        "                tr_loss+= [self.loss(y_train[i].reshape(-1,1),y_hat)+l2reg_loss]\n",
        "\n",
        "\n",
        "            trainingloss+= [np.mean(tr_loss)]\n",
        "\n",
        "            \n",
        "            \n",
        "            y_pred = self.predict(X_train)\n",
        "            trainingaccuracy+=[self.accuracy(y_pred,y_train,N_train)]\n",
        "            y_pred_val = self.predict(X_val)\n",
        "            validationaccuracy+= [self.accuracy(y_pred_val,y_val,N_val)]\n",
        "\n",
        "            elapsed = time.time() - start_time\n",
        "\n",
        "            wandb.log({'loss':trainingloss[e], 'trainingaccuracy':trainingaccuracy[e], 'validationaccuracy':validationaccuracy[e],'epoch':e, })\n",
        "            print(\n",
        "                        \"Epoch: %d, Loss: %.3e, Training accuracy:%.2f, Validation Accuracy: %.2f, Time: %.2f\"\n",
        "                        % (\n",
        "                            e,\n",
        "                            trainingloss[e],\n",
        "                            trainingaccuracy[e],\n",
        "                            validationaccuracy[e],\n",
        "                            elapsed\n",
        "                        )\n",
        "                    )\n",
        "\n",
        "\n",
        "\n",
        "\n",
        "    def MomentumGD(self,epochs,N_train):\n",
        "        gamma =0.9\n",
        "        trainingloss = []\n",
        "        trainingaccuracy = []\n",
        "        validationaccuracy = []\n",
        "\n",
        "        X_train  = self.train_images.reshape(self.train_images.shape[0],self.input_flattened_size,1 )/255\n",
        "        y_train  = (OneHotEncoder().fit_transform(self.train_labels.reshape((-1,1)))).todense()\n",
        "\n",
        "        N_val = self.val_images.shape[0]\n",
        "        X_val  = self.val_images.reshape(N_val,self.input_flattened_size,1 )/255\n",
        "        y_val  = (OneHotEncoder().fit_transform(self.val_labels.reshape((-1,1)))).todense()\n",
        "\n",
        "\n",
        "        prev_vw,prev_vb = self.InitZero(self.layer_dims)\n",
        " \n",
        "        for e in range(epochs):\n",
        "            start_time = time.time()\n",
        "            # X_train,_,y_train,_ = train_test_split(X_train,y_train,test_size=0)  #for shuffling\n",
        "            unisonShuffleDataset(X_train,y_train)\n",
        "            tr_loss = []\n",
        "            dw,db  = self.InitZero(self.layer_dims)\n",
        "            \n",
        "            num_samples_done =0\n",
        "            for i in range(N_train):\n",
        "                #print(i)\n",
        "                y_hat,h,a = self.forward_propagation(X_train[i].reshape(self.input_flattened_size,1),self.weights,self.biases)\n",
        "                grad_w,grad_b = self.back_prop(h,a,y_train[i].reshape(-1,1))\n",
        "\n",
        "\n",
        "                for j in range(1,self.num_layers ):\n",
        "                    dw[j-1]= dw[j-1]+np.asarray(grad_w[j]) \n",
        "                    db[j-1]+=grad_b[j]\n",
        "                \n",
        "                num_samples_done+=1\n",
        "                if num_samples_done%self.batch_size == 0:\n",
        "                    vw,vb = [],[]\n",
        "                    for i in range(self.num_layers-1):\n",
        "                        vw+= [gamma*prev_vw[i]+self.learning_rate*(dw[i]/self.batch_size)]\n",
        "                        vb+= [gamma*prev_vb[i]+self.learning_rate*(db[i]/self.batch_size)]\n",
        "                    self.update_wb(vw,vb)\n",
        "                    dw,db = self.InitZero(self.layer_dims)\n",
        "                    prev_vw,prev_vb = vw,vb\n",
        "                l2reg_loss = self.weight_decay* np.sum([(np.linalg.norm(self.weights[i]))**2 for i in range(len(self.weights)) ])\n",
        "                tr_loss+= [self.loss(y_train[i].reshape(-1,1),y_hat)+l2reg_loss]\n",
        "\n",
        "\n",
        "            trainingloss+= [np.mean(tr_loss)]\n",
        "\n",
        "            \n",
        "            \n",
        "            y_pred = self.predict(X_train)\n",
        "            trainingaccuracy+=[self.accuracy(y_pred,y_train,N_train)]\n",
        "            y_pred_val = self.predict(X_val)\n",
        "            validationaccuracy+= [self.accuracy(y_pred_val,y_val,N_val)]\n",
        "\n",
        "            elapsed = time.time() - start_time\n",
        "\n",
        "            wandb.log({'loss':trainingloss[e], 'trainingaccuracy':trainingaccuracy[e], 'validationaccuracy':validationaccuracy[e],'epoch':e, })\n",
        "\n",
        "            print(\n",
        "                        \"Epoch: %d, Loss: %.3e, Training accuracy:%.2f, Validation Accuracy: %.2f, Time: %.2f\"\n",
        "                        % (\n",
        "                            e,\n",
        "                            trainingloss[e],\n",
        "                            trainingaccuracy[e],\n",
        "                            validationaccuracy[e],\n",
        "                            elapsed\n",
        "                        )\n",
        "                    )\n",
        "\n",
        "\n",
        "    def Nag(self,epochs,N_train):\n",
        "        gamma =0.9\n",
        "        trainingloss = []\n",
        "        trainingaccuracy = []\n",
        "        validationaccuracy = []\n",
        "\n",
        "        X_train  = self.train_images.reshape(self.train_images.shape[0],self.input_flattened_size,1 )/255\n",
        "        y_train  = (OneHotEncoder().fit_transform(self.train_labels.reshape((-1,1)))).todense()\n",
        "\n",
        "        N_val = self.val_images.shape[0]\n",
        "        X_val  = self.val_images.reshape(N_val,self.input_flattened_size,1 )/255\n",
        "        y_val  = (OneHotEncoder().fit_transform(self.val_labels.reshape((-1,1)))).todense()\n",
        "\n",
        "\n",
        "        prev_vw,prev_vb = self.InitZero(self.layer_dims)\n",
        "        vw,vb,weights_l,biases_l = [],[],[],[]\n",
        "        for i in range(self.num_layers-1):\n",
        "            vw+= [gamma*prev_vw[i]]\n",
        "            vb+= [gamma*prev_vb[i]]\n",
        "            weights_l += [self.weights[i] - vw[i]]\n",
        "            biases_l += [self.biases[i] - vb[i]]\n",
        "        for e in range(epochs):\n",
        "            start_time = time.time()\n",
        "            # X_train,_,y_train,_ = train_test_split(X_train,y_train,test_size=0)  #for shuffling\n",
        "            unisonShuffleDataset(X_train,y_train)\n",
        "            tr_loss = []\n",
        "            dw,db  = self.InitZero(self.layer_dims)\n",
        "            \n",
        "            num_samples_done =0\n",
        "            for i in range(N_train):\n",
        "                #print(i)\n",
        "                y_hat,h,a = self.forward_propagation(X_train[i].reshape(self.input_flattened_size,1),weights_l,biases_l)\n",
        "                grad_w,grad_b = self.back_prop(h,a,y_train[i].reshape(-1,1))\n",
        "\n",
        "\n",
        "                for j in range(1,self.num_layers ):\n",
        "                    dw[j-1]= dw[j-1]+np.asarray(grad_w[j]) \n",
        "                    db[j-1]+=grad_b[j]\n",
        "                \n",
        "                num_samples_done+=1\n",
        "                if num_samples_done%self.batch_size == 0:\n",
        "                    \n",
        "                    for i in range(self.num_layers-1):\n",
        "                        vw[i]= gamma*prev_vw[i]+self.learning_rate*(dw[i]/self.batch_size)\n",
        "                        vb[i]= gamma*prev_vb[i]+self.learning_rate*(db[i]/self.batch_size)\n",
        "                    self.update_wb(vw,vb)\n",
        "\n",
        "                    for i in range(self.num_layers-1):\n",
        "                        weights_l[i] = self.weights[i] - vw[i]\n",
        "                        biases_l[i] = self.biases[i] - vb[i]\n",
        "                    \n",
        "                    dw,db = self.InitZero(self.layer_dims)\n",
        "                    prev_vw,prev_vb = vw,vb\n",
        "                l2reg_loss = self.weight_decay* np.sum([(np.linalg.norm(self.weights[i]))**2 for i in range(len(self.weights)) ])\n",
        "                tr_loss+= [self.loss(y_train[i].reshape(-1,1),y_hat)+l2reg_loss]\n",
        "\n",
        "\n",
        "            trainingloss+= [np.mean(tr_loss)]\n",
        "\n",
        "            \n",
        "            \n",
        "            y_pred = self.predict(X_train)\n",
        "            trainingaccuracy+=[self.accuracy(y_pred,y_train,N_train)]\n",
        "            y_pred_val = self.predict(X_val)\n",
        "            validationaccuracy+= [self.accuracy(y_pred_val,y_val,N_val)]\n",
        "\n",
        "            elapsed = time.time() - start_time\n",
        "            wandb.log({'loss':trainingloss[e], 'trainingaccuracy':trainingaccuracy[e], 'validationaccuracy':validationaccuracy[e],'epoch':e, })\n",
        "\n",
        "            print(\n",
        "                        \"Epoch: %d, Loss: %.3e, Training accuracy:%.2f, Validation Accuracy: %.2f, Time: %.2f\"\n",
        "                        % (\n",
        "                            e,\n",
        "                            trainingloss[e],\n",
        "                            trainingaccuracy[e],\n",
        "                            validationaccuracy[e],\n",
        "                            elapsed\n",
        "                        )\n",
        "                    )\n",
        "\n",
        "\n",
        "\n",
        "\n",
        "\n",
        "    def rmsProp(self,epochs,N_train):\n",
        "        trainingloss = []\n",
        "        trainingaccuracy = []\n",
        "        validationaccuracy = []\n",
        "\n",
        "        eps,beta  = 1e-8,0.9\n",
        "\n",
        "        X_train  = self.train_images.reshape(self.train_images.shape[0],self.input_flattened_size,1 )/255\n",
        "        y_train  = (OneHotEncoder().fit_transform(self.train_labels.reshape((-1,1)))).todense()\n",
        "\n",
        "        N_val = self.val_images.shape[0]\n",
        "        X_val  = self.val_images.reshape(N_val,self.input_flattened_size,1 )/255\n",
        "        y_val  = (OneHotEncoder().fit_transform(self.val_labels.reshape((-1,1)))).todense()\n",
        "\n",
        "\n",
        "        vw,vb = self.InitZero(self.layer_dims)\n",
        " \n",
        "        for e in range(epochs):\n",
        "            start_time = time.time()\n",
        "            # X_train,_,y_train,_ = train_test_split(X_train,y_train,test_size=0)  #for shuffling\n",
        "            unisonShuffleDataset(X_train,y_train)\n",
        "            tr_loss = []\n",
        "            dw,db  = self.InitZero(self.layer_dims)\n",
        "            \n",
        "            num_samples_done =0\n",
        "            for i in range(N_train):\n",
        "                #print(i)\n",
        "                y_hat,h,a = self.forward_propagation(X_train[i].reshape(self.input_flattened_size,1),self.weights,self.biases)\n",
        "                grad_w,grad_b = self.back_prop(h,a,y_train[i].reshape(-1,1))\n",
        "\n",
        "\n",
        "                for j in range(1,self.num_layers ):\n",
        "                    dw[j-1]= dw[j-1]+np.asarray(grad_w[j])\n",
        "                    db[j-1]+=grad_b[j]\n",
        "                \n",
        "                num_samples_done+=1\n",
        "                if num_samples_done%self.batch_size == 0:\n",
        "                    ddw,ddb=self.InitZero(self.layer_dims)\n",
        "                    for i in range(self.num_layers-1):\n",
        "                        vw[i]= beta*vw[i]+(1-beta)*np.square(dw[i])\n",
        "                        vb[i]= beta*vb[i]+(1-beta)*(db[i])**2\n",
        "\n",
        "                        ddw[i]= dw[i]*(self.learning_rate/np.sqrt(vw[i]+eps))\n",
        "                        ddb[i]= db[i]*(self.learning_rate/np.sqrt(vb[i]+eps))\n",
        "                        \n",
        "                    self.update_wb(ddw,ddb)\n",
        "                    dw,db = self.InitZero(self.layer_dims)\n",
        "                    \n",
        "                l2reg_loss = self.weight_decay* np.sum([(np.linalg.norm(self.weights[i]))**2 for i in range(len(self.weights)) ])\n",
        "                tr_loss+= [self.loss(y_train[i].reshape(-1,1),y_hat)+l2reg_loss]\n",
        "\n",
        "\n",
        "            trainingloss+= [np.mean(tr_loss)]\n",
        "\n",
        "            \n",
        "            \n",
        "            y_pred = self.predict(X_train)\n",
        "            trainingaccuracy+=[self.accuracy(y_pred,y_train,N_train)]\n",
        "            y_pred_val = self.predict(X_val)\n",
        "            validationaccuracy+= [self.accuracy(y_pred_val,y_val,N_val)]\n",
        "\n",
        "            elapsed = time.time() - start_time\n",
        "            wandb.log({'loss':trainingloss[e], 'trainingaccuracy':trainingaccuracy[e], 'validationaccuracy':validationaccuracy[e],'epoch':e, })\n",
        "\n",
        "            print(\n",
        "                        \"Epoch: %d, Loss: %.3e, Training accuracy:%.2f, Validation Accuracy: %.2f, Time: %.2f\"\n",
        "                        % (\n",
        "                            e,\n",
        "                            trainingloss[e],\n",
        "                            trainingaccuracy[e],\n",
        "                            validationaccuracy[e],\n",
        "                            elapsed\n",
        "                        )\n",
        "                    )\n",
        "\n",
        "\n",
        "\n",
        "\n",
        "    def adam(self,epochs,N_train):\n",
        "        trainingloss = []\n",
        "        trainingaccuracy = []\n",
        "        validationaccuracy = []\n",
        "\n",
        "        eps,beta1,beta2  = 1e-8,0.9,0.99\n",
        "\n",
        "        X_train  = self.train_images.reshape(self.train_images.shape[0],self.input_flattened_size,1 )/255\n",
        "        y_train  = (OneHotEncoder().fit_transform(self.train_labels.reshape((-1,1)))).todense()\n",
        "\n",
        "        N_val = self.val_images.shape[0]\n",
        "        X_val  = self.val_images.reshape(N_val,self.input_flattened_size,1 )/255\n",
        "        y_val  = (OneHotEncoder().fit_transform(self.val_labels.reshape((-1,1)))).todense()\n",
        "\n",
        "\n",
        "        vw,vb = self.InitZero(self.layer_dims)\n",
        "        mw,mb = self.InitZero(self.layer_dims)\n",
        "        vwh,vbh = self.InitZero(self.layer_dims)\n",
        "        mwh,mbh = self.InitZero(self.layer_dims)\n",
        "\n",
        "        for e in range(epochs):\n",
        "            start_time = time.time()\n",
        "            # X_train,_,y_train,_ = train_test_split(X_train,y_train,test_size=0)  #for shuffling\n",
        "            unisonShuffleDataset(X_train,y_train)\n",
        "            tr_loss = []\n",
        "            dw,db  = self.InitZero(self.layer_dims)\n",
        "            \n",
        "            num_samples_done =0\n",
        "            for i in range(N_train):\n",
        "                #print(i)\n",
        "                y_hat,h,a = self.forward_propagation(X_train[i].reshape(self.input_flattened_size,1),self.weights,self.biases)\n",
        "                grad_w,grad_b = self.back_prop(h,a,y_train[i].reshape(-1,1))\n",
        "\n",
        "\n",
        "                for j in range(1,self.num_layers ):\n",
        "                    dw[j-1]= dw[j-1]+np.asarray(grad_w[j]) \n",
        "                    db[j-1]+=grad_b[j]\n",
        "                \n",
        "                num_samples_done+=1\n",
        "                if num_samples_done%self.batch_size == 0:\n",
        "                    ddw,ddb=self.InitZero(self.layer_dims)\n",
        "                    for i in range(self.num_layers-1):\n",
        "                        vw[i]= beta2*vw[i]+(1-beta2)*np.square(dw[i])\n",
        "                        vb[i]= beta2*vb[i]+(1-beta2)*(db[i])**2\n",
        "\n",
        "                        mw[i]= beta1*mw[i]+(1-beta1)*(dw[i])\n",
        "                        mb[i]= beta1*mb[i]+(1-beta1)*(db[i])\n",
        "\n",
        "                        mwh[i] = mw[i]/(1-beta1**(e+1))\n",
        "                        mbh[i] = mb[i]/(1-beta1**(e+1))\n",
        "\n",
        "                        vwh[i] = vw[i]/(1-beta2**(e+1))\n",
        "                        vbh[i] = vb[i]/(1-beta2**(e+1))                        \n",
        "\n",
        "                        ddw[i] = (self.learning_rate/np.sqrt(vwh[i]+eps))*mwh[i]\n",
        "                        ddb[i] = (self.learning_rate/np.sqrt(vbh[i]+eps))*mbh[i]\n",
        "                        \n",
        "                    self.update_wb(ddw,ddb)\n",
        "                    dw,db = self.InitZero(self.layer_dims)\n",
        "                    \n",
        "                l2reg_loss = self.weight_decay* np.sum([(np.linalg.norm(self.weights[i]))**2 for i in range(len(self.weights)) ])\n",
        "                tr_loss+= [self.loss(y_train[i].reshape(-1,1),y_hat)+l2reg_loss]\n",
        "\n",
        "\n",
        "            trainingloss+= [np.mean(tr_loss)]\n",
        "\n",
        "            \n",
        "            \n",
        "            y_pred = self.predict(X_train)\n",
        "            trainingaccuracy+=[self.accuracy(y_pred,y_train,N_train)]\n",
        "            y_pred_val = self.predict(X_val)\n",
        "            validationaccuracy+= [self.accuracy(y_pred_val,y_val,N_val)]\n",
        "\n",
        "            elapsed = time.time() - start_time\n",
        "            wandb.log({'loss':trainingloss[e], 'trainingaccuracy':trainingaccuracy[e], 'validationaccuracy':validationaccuracy[e],'epoch':e, })\n",
        "\n",
        "            print(\n",
        "                        \"Epoch: %d, Loss: %.3e, Training accuracy:%.2f, Validation Accuracy: %.2f, Time: %.2f\"\n",
        "                        % (\n",
        "                            e,\n",
        "                            trainingloss[e],\n",
        "                            trainingaccuracy[e],\n",
        "                            validationaccuracy[e],\n",
        "                            elapsed\n",
        "                        )\n",
        "                    )\n",
        "\n",
        "\n",
        "\n",
        "\n",
        "\n",
        "\n",
        "    def nadam(self,epochs,N_train):\n",
        "        trainingloss = []\n",
        "        trainingaccuracy = []\n",
        "        validationaccuracy = []\n",
        "\n",
        "        eps,beta1,beta2  = 1e-8,0.9,0.999\n",
        "\n",
        "        X_train  = self.train_images.reshape(self.train_images.shape[0],self.input_flattened_size,1 )/255\n",
        "        y_train  = (OneHotEncoder().fit_transform(self.train_labels.reshape((-1,1)))).todense()\n",
        "\n",
        "        N_val = self.val_images.shape[0]\n",
        "        X_val  = self.val_images.reshape(N_val,self.input_flattened_size,1 )/255\n",
        "        y_val  = (OneHotEncoder().fit_transform(self.val_labels.reshape((-1,1)))).todense()\n",
        "\n",
        "\n",
        "        vw,vb = self.InitZero(self.layer_dims)\n",
        "        mw,mb = self.InitZero(self.layer_dims)\n",
        "        vwh,vbh = self.InitZero(self.layer_dims)\n",
        "        mwh,mbh = self.InitZero(self.layer_dims)\n",
        "\n",
        "        for e in range(epochs):\n",
        "            start_time = time.time()\n",
        "            # X_train,_,y_train,_ = train_test_split(X_train,y_train,test_size=0)  #for shuffling\n",
        "            unisonShuffleDataset(X_train,y_train)\n",
        "            tr_loss = []\n",
        "            dw,db  = self.InitZero(self.layer_dims)\n",
        "            \n",
        "            num_samples_done =0\n",
        "            for i in range(N_train):\n",
        "                #print(i)\n",
        "                y_hat,h,a = self.forward_propagation(X_train[i].reshape(self.input_flattened_size,1),self.weights,self.biases)\n",
        "                grad_w,grad_b = self.back_prop(h,a,y_train[i].reshape(-1,1))\n",
        "\n",
        "\n",
        "                for j in range(1,self.num_layers ):\n",
        "                    dw[j-1]= dw[j-1]+np.asarray(grad_w[j])\n",
        "                    db[j-1]+=grad_b[j]\n",
        "                \n",
        "                num_samples_done+=1\n",
        "                if num_samples_done%self.batch_size == 0:\n",
        "                    ddw,ddb=self.InitZero(self.layer_dims)\n",
        "                    for i in range(self.num_layers-1):\n",
        "                        vw[i]= beta2*vw[i]+(1-beta2)*np.square(dw[i])\n",
        "                        vb[i]= beta2*vb[i]+(1-beta2)*(db[i])**2\n",
        "\n",
        "                        mw[i]= beta1*mw[i]+(1-beta1)*(dw[i])\n",
        "                        mb[i]= beta1*mb[i]+(1-beta1)*(db[i])\n",
        "\n",
        "                        mwh[i] = mw[i]/(1-beta1**(e+1))\n",
        "                        mbh[i] = mb[i]/(1-beta1**(e+1))\n",
        "\n",
        "                        vwh[i] = vw[i]/(1-beta2**(e+1))\n",
        "                        vbh[i] = vb[i]/(1-beta2**(e+1))                        \n",
        "\n",
        "                        ddw[i] = (self.learning_rate/np.sqrt(vwh[i]+eps))*(beta1*mw[i]+(1-beta1)*(dw[i]))\n",
        "                        ddb[i] = (self.learning_rate/np.sqrt(vbh[i]+eps))*(beta1*mb[i]+(1-beta1)*(db[i]))\n",
        "                        \n",
        "                    self.update_wb(ddw,ddb)\n",
        "                    dw,db = self.InitZero(self.layer_dims)\n",
        "                    \n",
        "                l2reg_loss = self.weight_decay* np.sum([(np.linalg.norm(self.weights[i]))**2 for i in range(len(self.weights)) ])\n",
        "                tr_loss+= [self.loss(y_train[i].reshape(-1,1),y_hat)+l2reg_loss]\n",
        "\n",
        "\n",
        "            trainingloss+= [np.mean(tr_loss)]\n",
        "\n",
        "            \n",
        "            \n",
        "            y_pred = self.predict(X_train)\n",
        "            trainingaccuracy+=[self.accuracy(y_pred,y_train,N_train)]\n",
        "            y_pred_val = self.predict(X_val)\n",
        "            validationaccuracy+= [self.accuracy(y_pred_val,y_val,N_val)]\n",
        "\n",
        "            elapsed = time.time() - start_time\n",
        "            wandb.log({'loss':trainingloss[e], 'trainingaccuracy':trainingaccuracy[e], 'validationaccuracy':validationaccuracy[e],'epoch':e, })\n",
        "\n",
        "            print(\n",
        "                        \"Epoch: %d, Loss: %.3e, Training accuracy:%.2f, Validation Accuracy: %.2f, Time: %.2f\"\n",
        "                        % (\n",
        "                            e,\n",
        "                            trainingloss[e],\n",
        "                            trainingaccuracy[e],\n",
        "                            validationaccuracy[e],\n",
        "                            elapsed\n",
        "                        )\n",
        "                    )\n",
        "\n",
        "\n",
        "\n",
        "\n",
        "\n",
        "\n",
        "\n"
      ],
      "execution_count": 8,
      "outputs": []
    },
    {
      "cell_type": "code",
      "metadata": {
        "id": "fLzaQzxF4EBp"
      },
      "source": [
        "\n",
        "Example2 = NeuralNet(4,[64,64,64,64],train_images,train_labels,val_images,val_labels,test_images,test_labels,max_epochs=5,batch_size=32,weight_decay=0.5,learning_rate=0.0001,activation = relu,\n",
        "                    activation_deriv=deriv_relu,optimizer = 'sgd',initializer=random_normal_init,loss=log_loss)"
      ],
      "execution_count": null,
      "outputs": []
    },
    {
      "cell_type": "code",
      "metadata": {
        "id": "Cdys6p6g49_5"
      },
      "source": [
        "#Example2.nadam(10,train_images.shape[0])"
      ],
      "execution_count": null,
      "outputs": []
    },
    {
      "cell_type": "code",
      "metadata": {
        "colab": {
          "base_uri": "https://localhost:8080/",
          "height": 121
        },
        "id": "RYycJeEsuo9r",
        "outputId": "473c9920-1b46-423d-f262-a9d1cc5574ee"
      },
      "source": [
        "\n",
        "sweep_config = {\n",
        "\n",
        "  \"method\": \"random\",\n",
        "  \"metric\":{\n",
        "  \"name\": \"validationaccuracy\",\n",
        "  \"goal\": \"maximize\"\n",
        "  },\n",
        "  \"parameters\": {\n",
        "        \"max_epochs\": {\n",
        "            \"values\": [5, 10]\n",
        "        },\n",
        "\n",
        "        \"initializer\": {\n",
        "            \"values\": ['random_normal', 'xavier_init']\n",
        "        },\n",
        "\n",
        "        \"num_hidden_layers\": {\n",
        "            \"values\": [2, 3, 4]\n",
        "        },\n",
        "        \n",
        "        \n",
        "        \"num_hidden_neurons\": {\n",
        "            \"values\": [32, 64, 128]\n",
        "        },\n",
        "        \n",
        "        \"activation\": {\n",
        "            \"values\": ['relu', 'sigmoid', 'tanh']\n",
        "        },\n",
        "        \n",
        "        \"learning_rate\": {\n",
        "            \"values\": [0.001, 0.0001]\n",
        "        },\n",
        "        \n",
        "        \n",
        "        \"weight_decay\": {\n",
        "            \"values\": [0, 0.0005,0.5]\n",
        "        },\n",
        "        \n",
        "        \"optimizer\": {\n",
        "            \"values\": [\"sgd\", \"mgd\", \"nag\", \"rmsProp\", \"adam\",\"nadam\"]\n",
        "        },\n",
        "                    \n",
        "        \"batch_size\": {\n",
        "            \"values\": [16, 32, 64]\n",
        "        }\n",
        "        \n",
        "        \n",
        "    }\n",
        "}\n",
        "\n",
        "dict_act,dict_deriv,dict_opt = {},{},{}\n",
        "dict_act['relu'] = relu\n",
        "dict_act['tanh'] = tanh\n",
        "dict_act['sigmoid'] = sigmoid\n",
        "\n",
        "dict_deriv['relu'] = deriv_relu\n",
        "dict_deriv['tanh'] = deriv_tanh\n",
        "dict_deriv['sigmoid'] = deriv_sigmoid\n",
        "dict_init = {}\n",
        "dict_init['random_normal'] = random_normal_init\n",
        "dict_init['xavier_init'] = xavier_init\n",
        "\n",
        "sweep_id = wandb.sweep(sweep_config,project='CS6910-Assignment1-1')\n",
        "\n",
        "def ParamTuning():\n",
        "    wandb.init()\n",
        "    config = wandb.config\n",
        "    layers = [config.num_hidden_neurons]*config.num_hidden_layers\n",
        "\n",
        "    Example3 = NeuralNet(config.num_hidden_layers,layers,train_images,train_labels,val_images,val_labels,test_images,test_labels,max_epochs=config.max_epochs,batch_size=config.batch_size,\n",
        "                            weight_decay=config.weight_decay,learning_rate=config.learning_rate,activation = dict_act[config.activation] ,\n",
        "                            activation_deriv=dict_deriv[config.activation],optimizer = config.optimizer,  initializer = dict_init[config.initializer],loss=log_loss)\n",
        "    Example3.optimizer(config.max_epochs,train_images.shape[0])\n"
      ],
      "execution_count": null,
      "outputs": [
        {
          "output_type": "display_data",
          "data": {
            "application/javascript": [
              "\n",
              "        window._wandbApiKey = new Promise((resolve, reject) => {\n",
              "            function loadScript(url) {\n",
              "            return new Promise(function(resolve, reject) {\n",
              "                let newScript = document.createElement(\"script\");\n",
              "                newScript.onerror = reject;\n",
              "                newScript.onload = resolve;\n",
              "                document.body.appendChild(newScript);\n",
              "                newScript.src = url;\n",
              "            });\n",
              "            }\n",
              "            loadScript(\"https://cdn.jsdelivr.net/npm/postmate/build/postmate.min.js\").then(() => {\n",
              "            const iframe = document.createElement('iframe')\n",
              "            iframe.style.cssText = \"width:0;height:0;border:none\"\n",
              "            document.body.appendChild(iframe)\n",
              "            const handshake = new Postmate({\n",
              "                container: iframe,\n",
              "                url: 'https://wandb.ai/authorize'\n",
              "            });\n",
              "            const timeout = setTimeout(() => reject(\"Couldn't auto authenticate\"), 5000)\n",
              "            handshake.then(function(child) {\n",
              "                child.on('authorize', data => {\n",
              "                    clearTimeout(timeout)\n",
              "                    resolve(data)\n",
              "                });\n",
              "            });\n",
              "            })\n",
              "        });\n",
              "    "
            ],
            "text/plain": [
              "<IPython.core.display.Javascript object>"
            ]
          },
          "metadata": {
            "tags": []
          }
        },
        {
          "output_type": "stream",
          "text": [
            "\u001b[34m\u001b[1mwandb\u001b[0m: You can find your API key in your browser here: https://wandb.ai/authorize\n"
          ],
          "name": "stderr"
        },
        {
          "output_type": "stream",
          "text": [
            "wandb: Paste an API key from your profile and hit enter: ··········\n"
          ],
          "name": "stdout"
        },
        {
          "output_type": "stream",
          "text": [
            "\u001b[34m\u001b[1mwandb\u001b[0m: Appending key for api.wandb.ai to your netrc file: /root/.netrc\n"
          ],
          "name": "stderr"
        },
        {
          "output_type": "stream",
          "text": [
            "Create sweep with ID: w8u3uwy0\n",
            "Sweep URL: https://wandb.ai/abhilash-kar0/CS6910-Assignment1-1/sweeps/w8u3uwy0\n"
          ],
          "name": "stdout"
        }
      ]
    },
    {
      "cell_type": "code",
      "metadata": {
        "colab": {
          "base_uri": "https://localhost:8080/",
          "height": 1000,
          "referenced_widgets": [
            "ce9cc39cdfb24fee92e15e00f9e536db",
            "2770331d60284a24847f796a1434774f",
            "672e509d8ca44f31addeff14a809f7ee",
            "228fb363779b47549607737e4cfe277a",
            "cfeae367099042e9ae8c1c1e85a4e64d",
            "b36e3fc59c2a4829b49d7be2fbdfa5ba",
            "51706fce3c104aa5b7ca8e527ec6ec4d",
            "2b7ccce040b24a2283d05a89a0918e3c",
            "be91032179b3405bb652b818356a63af",
            "50846218b16b40a99a676aa6a729ad63",
            "c9714d2453cc49899db173a2053d159d",
            "fc78244b4a5048a0a5e7d25db2bfe6ca",
            "31dbe7ef14b44c0c9e197e36f2c48d61",
            "488fa46d2bc44c2582c86393fc8d61a0",
            "02b00fd2f1ce468598d5438824feac6e",
            "8b4d591c8ab743b6818b821868dbbb51",
            "bf247dd4a63640d7b7d2f3e8ba821abd",
            "1401093d0fb44ac49446d50d3eab0c66",
            "694d917c31a140b1b529f235f42a7e63",
            "79d560bb715747beb81785382e7dbf18",
            "c2b655256d5b4ab9b9d04dc29b48e2f1",
            "22ba5822b3ee497e9bd4108b28b9177e",
            "61e1d901ff2c42aba12c14d44e4cd41f",
            "864750a7357c4387940437977fd49784"
          ]
        },
        "id": "N1XI4WrfXimO",
        "outputId": "4574abeb-d44e-4af9-f7dc-fb31b4a95fbc"
      },
      "source": [
        "wandb.agent(sweep_id,ParamTuning,count=10)"
      ],
      "execution_count": null,
      "outputs": [
        {
          "output_type": "stream",
          "text": [
            "\u001b[34m\u001b[1mwandb\u001b[0m: Agent Starting Run: y8al55dx with config:\n",
            "\u001b[34m\u001b[1mwandb\u001b[0m: \tactivation: tanh\n",
            "\u001b[34m\u001b[1mwandb\u001b[0m: \tbatch_size: 16\n",
            "\u001b[34m\u001b[1mwandb\u001b[0m: \tinitializer: random_normal\n",
            "\u001b[34m\u001b[1mwandb\u001b[0m: \tlearning_rate: 0.0001\n",
            "\u001b[34m\u001b[1mwandb\u001b[0m: \tmax_epochs: 10\n",
            "\u001b[34m\u001b[1mwandb\u001b[0m: \tnum_hidden_layers: 2\n",
            "\u001b[34m\u001b[1mwandb\u001b[0m: \tnum_hidden_neurons: 32\n",
            "\u001b[34m\u001b[1mwandb\u001b[0m: \toptimizer: rmsProp\n",
            "\u001b[34m\u001b[1mwandb\u001b[0m: \tweight_decay: 0.0005\n",
            "\u001b[34m\u001b[1mwandb\u001b[0m: Currently logged in as: \u001b[33mabhilash-kar0\u001b[0m (use `wandb login --relogin` to force relogin)\n"
          ],
          "name": "stderr"
        },
        {
          "output_type": "display_data",
          "data": {
            "text/html": [
              "\n",
              "                Tracking run with wandb version 0.10.32<br/>\n",
              "                Syncing run <strong style=\"color:#cdcd00\">major-sweep-1</strong> to <a href=\"https://wandb.ai\" target=\"_blank\">Weights & Biases</a> <a href=\"https://docs.wandb.com/integrations/jupyter.html\" target=\"_blank\">(Documentation)</a>.<br/>\n",
              "                Project page: <a href=\"https://wandb.ai/abhilash-kar0/CS6910-Assignment1-1\" target=\"_blank\">https://wandb.ai/abhilash-kar0/CS6910-Assignment1-1</a><br/>\n",
              "                Sweep page: <a href=\"https://wandb.ai/abhilash-kar0/CS6910-Assignment1-1/sweeps/w8u3uwy0\" target=\"_blank\">https://wandb.ai/abhilash-kar0/CS6910-Assignment1-1/sweeps/w8u3uwy0</a><br/>\n",
              "Run page: <a href=\"https://wandb.ai/abhilash-kar0/CS6910-Assignment1-1/runs/y8al55dx\" target=\"_blank\">https://wandb.ai/abhilash-kar0/CS6910-Assignment1-1/runs/y8al55dx</a><br/>\n",
              "                Run data is saved locally in <code>/content/wandb/run-20210623_110225-y8al55dx</code><br/><br/>\n",
              "            "
            ],
            "text/plain": [
              "<IPython.core.display.HTML object>"
            ]
          },
          "metadata": {
            "tags": []
          }
        },
        {
          "output_type": "stream",
          "text": [
            "Epoch: 0, Loss: 1.310e+01, Training accuracy:0.45, Validation Accuracy: 0.45, Time: 129.14\n",
            "Epoch: 1, Loss: 1.162e+01, Training accuracy:0.56, Validation Accuracy: 0.57, Time: 130.17\n",
            "Epoch: 2, Loss: 1.029e+01, Training accuracy:0.61, Validation Accuracy: 0.63, Time: 129.40\n",
            "Epoch: 3, Loss: 9.130e+00, Training accuracy:0.64, Validation Accuracy: 0.65, Time: 129.26\n",
            "Epoch: 4, Loss: 8.135e+00, Training accuracy:0.66, Validation Accuracy: 0.67, Time: 130.58\n",
            "Epoch: 5, Loss: 7.320e+00, Training accuracy:0.68, Validation Accuracy: 0.68, Time: 130.00\n",
            "Epoch: 6, Loss: 6.656e+00, Training accuracy:0.69, Validation Accuracy: 0.69, Time: 127.84\n",
            "Epoch: 7, Loss: 6.112e+00, Training accuracy:0.70, Validation Accuracy: 0.70, Time: 128.85\n",
            "Epoch: 8, Loss: 5.664e+00, Training accuracy:0.71, Validation Accuracy: 0.71, Time: 124.40\n",
            "Epoch: 9, Loss: 5.290e+00, Training accuracy:0.72, Validation Accuracy: 0.72, Time: 127.02\n"
          ],
          "name": "stdout"
        },
        {
          "output_type": "display_data",
          "data": {
            "text/html": [
              "<br/>Waiting for W&B process to finish, PID 184<br/>Program ended successfully."
            ],
            "text/plain": [
              "<IPython.core.display.HTML object>"
            ]
          },
          "metadata": {
            "tags": []
          }
        },
        {
          "output_type": "display_data",
          "data": {
            "application/vnd.jupyter.widget-view+json": {
              "model_id": "ce9cc39cdfb24fee92e15e00f9e536db",
              "version_minor": 0,
              "version_major": 2
            },
            "text/plain": [
              "VBox(children=(Label(value=' 0.00MB of 0.00MB uploaded (0.00MB deduped)\\r'), FloatProgress(value=1.0, max=1.0)…"
            ]
          },
          "metadata": {
            "tags": []
          }
        },
        {
          "output_type": "display_data",
          "data": {
            "text/html": [
              "Find user logs for this run at: <code>/content/wandb/run-20210623_110225-y8al55dx/logs/debug.log</code>"
            ],
            "text/plain": [
              "<IPython.core.display.HTML object>"
            ]
          },
          "metadata": {
            "tags": []
          }
        },
        {
          "output_type": "display_data",
          "data": {
            "text/html": [
              "Find internal logs for this run at: <code>/content/wandb/run-20210623_110225-y8al55dx/logs/debug-internal.log</code>"
            ],
            "text/plain": [
              "<IPython.core.display.HTML object>"
            ]
          },
          "metadata": {
            "tags": []
          }
        },
        {
          "output_type": "display_data",
          "data": {
            "text/html": [
              "<h3>Run summary:</h3><br/><style>\n",
              "    table.wandb td:nth-child(1) { padding: 0 10px; text-align: right }\n",
              "    </style><table class=\"wandb\">\n",
              "<tr><td>loss</td><td>5.29</td></tr><tr><td>trainingaccuracy</td><td>0.71583</td></tr><tr><td>validationaccuracy</td><td>0.71917</td></tr><tr><td>epoch</td><td>9</td></tr><tr><td>_runtime</td><td>1292</td></tr><tr><td>_timestamp</td><td>1624447437</td></tr><tr><td>_step</td><td>9</td></tr></table>"
            ],
            "text/plain": [
              "<IPython.core.display.HTML object>"
            ]
          },
          "metadata": {
            "tags": []
          }
        },
        {
          "output_type": "display_data",
          "data": {
            "text/html": [
              "<h3>Run history:</h3><br/><style>\n",
              "    table.wandb td:nth-child(1) { padding: 0 10px; text-align: right }\n",
              "    </style><table class=\"wandb\">\n",
              "<tr><td>loss</td><td>█▇▅▄▄▃▂▂▁▁</td></tr><tr><td>trainingaccuracy</td><td>▁▄▅▆▇▇▇███</td></tr><tr><td>validationaccuracy</td><td>▁▄▆▆▇▇▇███</td></tr><tr><td>epoch</td><td>▁▂▃▃▄▅▆▆▇█</td></tr><tr><td>_runtime</td><td>▁▂▃▃▄▅▆▆▇█</td></tr><tr><td>_timestamp</td><td>▁▂▃▃▄▅▆▆▇█</td></tr><tr><td>_step</td><td>▁▂▃▃▄▅▆▆▇█</td></tr></table><br/>"
            ],
            "text/plain": [
              "<IPython.core.display.HTML object>"
            ]
          },
          "metadata": {
            "tags": []
          }
        },
        {
          "output_type": "display_data",
          "data": {
            "text/html": [
              "Synced 5 W&B file(s), 0 media file(s), 0 artifact file(s) and 0 other file(s)"
            ],
            "text/plain": [
              "<IPython.core.display.HTML object>"
            ]
          },
          "metadata": {
            "tags": []
          }
        },
        {
          "output_type": "display_data",
          "data": {
            "text/html": [
              "\n",
              "                    <br/>Synced <strong style=\"color:#cdcd00\">major-sweep-1</strong>: <a href=\"https://wandb.ai/abhilash-kar0/CS6910-Assignment1-1/runs/y8al55dx\" target=\"_blank\">https://wandb.ai/abhilash-kar0/CS6910-Assignment1-1/runs/y8al55dx</a><br/>\n",
              "                "
            ],
            "text/plain": [
              "<IPython.core.display.HTML object>"
            ]
          },
          "metadata": {
            "tags": []
          }
        },
        {
          "output_type": "stream",
          "text": [
            "\u001b[34m\u001b[1mwandb\u001b[0m: Agent Starting Run: eekepksj with config:\n",
            "\u001b[34m\u001b[1mwandb\u001b[0m: \tactivation: relu\n",
            "\u001b[34m\u001b[1mwandb\u001b[0m: \tbatch_size: 64\n",
            "\u001b[34m\u001b[1mwandb\u001b[0m: \tinitializer: random_normal\n",
            "\u001b[34m\u001b[1mwandb\u001b[0m: \tlearning_rate: 0.001\n",
            "\u001b[34m\u001b[1mwandb\u001b[0m: \tmax_epochs: 10\n",
            "\u001b[34m\u001b[1mwandb\u001b[0m: \tnum_hidden_layers: 2\n",
            "\u001b[34m\u001b[1mwandb\u001b[0m: \tnum_hidden_neurons: 128\n",
            "\u001b[34m\u001b[1mwandb\u001b[0m: \toptimizer: rmsProp\n",
            "\u001b[34m\u001b[1mwandb\u001b[0m: \tweight_decay: 0.0005\n"
          ],
          "name": "stderr"
        },
        {
          "output_type": "display_data",
          "data": {
            "text/html": [
              "\n",
              "                Tracking run with wandb version 0.10.32<br/>\n",
              "                Syncing run <strong style=\"color:#cdcd00\">glad-sweep-2</strong> to <a href=\"https://wandb.ai\" target=\"_blank\">Weights & Biases</a> <a href=\"https://docs.wandb.com/integrations/jupyter.html\" target=\"_blank\">(Documentation)</a>.<br/>\n",
              "                Project page: <a href=\"https://wandb.ai/abhilash-kar0/CS6910-Assignment1-1\" target=\"_blank\">https://wandb.ai/abhilash-kar0/CS6910-Assignment1-1</a><br/>\n",
              "                Sweep page: <a href=\"https://wandb.ai/abhilash-kar0/CS6910-Assignment1-1/sweeps/w8u3uwy0\" target=\"_blank\">https://wandb.ai/abhilash-kar0/CS6910-Assignment1-1/sweeps/w8u3uwy0</a><br/>\n",
              "Run page: <a href=\"https://wandb.ai/abhilash-kar0/CS6910-Assignment1-1/runs/eekepksj\" target=\"_blank\">https://wandb.ai/abhilash-kar0/CS6910-Assignment1-1/runs/eekepksj</a><br/>\n",
              "                Run data is saved locally in <code>/content/wandb/run-20210623_112404-eekepksj</code><br/><br/>\n",
              "            "
            ],
            "text/plain": [
              "<IPython.core.display.HTML object>"
            ]
          },
          "metadata": {
            "tags": []
          }
        },
        {
          "output_type": "stream",
          "text": [
            "Epoch: 0, Loss: 5.628e+01, Training accuracy:0.83, Validation Accuracy: 0.82, Time: 481.91\n",
            "Epoch: 1, Loss: 5.172e+01, Training accuracy:0.85, Validation Accuracy: 0.84, Time: 479.71\n",
            "Epoch: 2, Loss: 4.947e+01, Training accuracy:0.85, Validation Accuracy: 0.84, Time: 481.50\n",
            "Epoch: 3, Loss: 4.815e+01, Training accuracy:0.86, Validation Accuracy: 0.85, Time: 482.74\n",
            "Epoch: 4, Loss: 4.729e+01, Training accuracy:0.86, Validation Accuracy: 0.85, Time: 483.80\n",
            "Epoch: 5, Loss: 4.672e+01, Training accuracy:0.86, Validation Accuracy: 0.86, Time: 490.14\n",
            "Epoch: 6, Loss: 4.638e+01, Training accuracy:0.87, Validation Accuracy: 0.86, Time: 497.02\n",
            "Epoch: 7, Loss: 4.625e+01, Training accuracy:0.87, Validation Accuracy: 0.86, Time: 491.58\n",
            "Epoch: 8, Loss: 4.631e+01, Training accuracy:0.87, Validation Accuracy: 0.86, Time: 501.12\n",
            "Epoch: 9, Loss: 4.657e+01, Training accuracy:0.87, Validation Accuracy: 0.86, Time: 489.42\n"
          ],
          "name": "stdout"
        },
        {
          "output_type": "display_data",
          "data": {
            "text/html": [
              "<br/>Waiting for W&B process to finish, PID 238<br/>Program ended successfully."
            ],
            "text/plain": [
              "<IPython.core.display.HTML object>"
            ]
          },
          "metadata": {
            "tags": []
          }
        },
        {
          "output_type": "display_data",
          "data": {
            "application/vnd.jupyter.widget-view+json": {
              "model_id": "be91032179b3405bb652b818356a63af",
              "version_minor": 0,
              "version_major": 2
            },
            "text/plain": [
              "VBox(children=(Label(value=' 0.00MB of 0.00MB uploaded (0.00MB deduped)\\r'), FloatProgress(value=1.0, max=1.0)…"
            ]
          },
          "metadata": {
            "tags": []
          }
        },
        {
          "output_type": "display_data",
          "data": {
            "text/html": [
              "Find user logs for this run at: <code>/content/wandb/run-20210623_112404-eekepksj/logs/debug.log</code>"
            ],
            "text/plain": [
              "<IPython.core.display.HTML object>"
            ]
          },
          "metadata": {
            "tags": []
          }
        },
        {
          "output_type": "display_data",
          "data": {
            "text/html": [
              "Find internal logs for this run at: <code>/content/wandb/run-20210623_112404-eekepksj/logs/debug-internal.log</code>"
            ],
            "text/plain": [
              "<IPython.core.display.HTML object>"
            ]
          },
          "metadata": {
            "tags": []
          }
        },
        {
          "output_type": "display_data",
          "data": {
            "text/html": [
              "<h3>Run summary:</h3><br/><style>\n",
              "    table.wandb td:nth-child(1) { padding: 0 10px; text-align: right }\n",
              "    </style><table class=\"wandb\">\n",
              "<tr><td>loss</td><td>46.5702</td></tr><tr><td>trainingaccuracy</td><td>0.86976</td></tr><tr><td>validationaccuracy</td><td>0.86233</td></tr><tr><td>epoch</td><td>9</td></tr><tr><td>_runtime</td><td>4884</td></tr><tr><td>_timestamp</td><td>1624452328</td></tr><tr><td>_step</td><td>9</td></tr></table>"
            ],
            "text/plain": [
              "<IPython.core.display.HTML object>"
            ]
          },
          "metadata": {
            "tags": []
          }
        },
        {
          "output_type": "display_data",
          "data": {
            "text/html": [
              "<h3>Run history:</h3><br/><style>\n",
              "    table.wandb td:nth-child(1) { padding: 0 10px; text-align: right }\n",
              "    </style><table class=\"wandb\">\n",
              "<tr><td>loss</td><td>█▅▃▂▂▁▁▁▁▁</td></tr><tr><td>trainingaccuracy</td><td>▁▄▅▆▇▇████</td></tr><tr><td>validationaccuracy</td><td>▁▄▅▆▇▇▇███</td></tr><tr><td>epoch</td><td>▁▂▃▃▄▅▆▆▇█</td></tr><tr><td>_runtime</td><td>▁▂▃▃▄▅▆▆▇█</td></tr><tr><td>_timestamp</td><td>▁▂▃▃▄▅▆▆▇█</td></tr><tr><td>_step</td><td>▁▂▃▃▄▅▆▆▇█</td></tr></table><br/>"
            ],
            "text/plain": [
              "<IPython.core.display.HTML object>"
            ]
          },
          "metadata": {
            "tags": []
          }
        },
        {
          "output_type": "display_data",
          "data": {
            "text/html": [
              "Synced 5 W&B file(s), 0 media file(s), 0 artifact file(s) and 0 other file(s)"
            ],
            "text/plain": [
              "<IPython.core.display.HTML object>"
            ]
          },
          "metadata": {
            "tags": []
          }
        },
        {
          "output_type": "display_data",
          "data": {
            "text/html": [
              "\n",
              "                    <br/>Synced <strong style=\"color:#cdcd00\">glad-sweep-2</strong>: <a href=\"https://wandb.ai/abhilash-kar0/CS6910-Assignment1-1/runs/eekepksj\" target=\"_blank\">https://wandb.ai/abhilash-kar0/CS6910-Assignment1-1/runs/eekepksj</a><br/>\n",
              "                "
            ],
            "text/plain": [
              "<IPython.core.display.HTML object>"
            ]
          },
          "metadata": {
            "tags": []
          }
        },
        {
          "output_type": "stream",
          "text": [
            "\u001b[34m\u001b[1mwandb\u001b[0m: Agent Starting Run: dgr4ww1k with config:\n",
            "\u001b[34m\u001b[1mwandb\u001b[0m: \tactivation: sigmoid\n",
            "\u001b[34m\u001b[1mwandb\u001b[0m: \tbatch_size: 16\n",
            "\u001b[34m\u001b[1mwandb\u001b[0m: \tinitializer: xavier_init\n",
            "\u001b[34m\u001b[1mwandb\u001b[0m: \tlearning_rate: 0.001\n",
            "\u001b[34m\u001b[1mwandb\u001b[0m: \tmax_epochs: 5\n",
            "\u001b[34m\u001b[1mwandb\u001b[0m: \tnum_hidden_layers: 2\n",
            "\u001b[34m\u001b[1mwandb\u001b[0m: \tnum_hidden_neurons: 128\n",
            "\u001b[34m\u001b[1mwandb\u001b[0m: \toptimizer: sgd\n",
            "\u001b[34m\u001b[1mwandb\u001b[0m: \tweight_decay: 0\n"
          ],
          "name": "stderr"
        },
        {
          "output_type": "display_data",
          "data": {
            "text/html": [
              "\n",
              "                Tracking run with wandb version 0.10.32<br/>\n",
              "                Syncing run <strong style=\"color:#cdcd00\">helpful-sweep-3</strong> to <a href=\"https://wandb.ai\" target=\"_blank\">Weights & Biases</a> <a href=\"https://docs.wandb.com/integrations/jupyter.html\" target=\"_blank\">(Documentation)</a>.<br/>\n",
              "                Project page: <a href=\"https://wandb.ai/abhilash-kar0/CS6910-Assignment1-1\" target=\"_blank\">https://wandb.ai/abhilash-kar0/CS6910-Assignment1-1</a><br/>\n",
              "                Sweep page: <a href=\"https://wandb.ai/abhilash-kar0/CS6910-Assignment1-1/sweeps/w8u3uwy0\" target=\"_blank\">https://wandb.ai/abhilash-kar0/CS6910-Assignment1-1/sweeps/w8u3uwy0</a><br/>\n",
              "Run page: <a href=\"https://wandb.ai/abhilash-kar0/CS6910-Assignment1-1/runs/dgr4ww1k\" target=\"_blank\">https://wandb.ai/abhilash-kar0/CS6910-Assignment1-1/runs/dgr4ww1k</a><br/>\n",
              "                Run data is saved locally in <code>/content/wandb/run-20210623_124535-dgr4ww1k</code><br/><br/>\n",
              "            "
            ],
            "text/plain": [
              "<IPython.core.display.HTML object>"
            ]
          },
          "metadata": {
            "tags": []
          }
        },
        {
          "output_type": "stream",
          "text": [
            "Epoch: 0, Loss: 3.212e-01, Training accuracy:0.43, Validation Accuracy: 0.43, Time: 238.81\n",
            "Epoch: 1, Loss: 3.113e-01, Training accuracy:0.51, Validation Accuracy: 0.52, Time: 239.53\n",
            "Epoch: 2, Loss: 2.984e-01, Training accuracy:0.53, Validation Accuracy: 0.53, Time: 233.63\n",
            "Epoch: 3, Loss: 2.799e-01, Training accuracy:0.54, Validation Accuracy: 0.55, Time: 234.03\n",
            "Epoch: 4, Loss: 2.582e-01, Training accuracy:0.56, Validation Accuracy: 0.57, Time: 235.54\n"
          ],
          "name": "stdout"
        },
        {
          "output_type": "display_data",
          "data": {
            "text/html": [
              "<br/>Waiting for W&B process to finish, PID 302<br/>Program ended successfully."
            ],
            "text/plain": [
              "<IPython.core.display.HTML object>"
            ]
          },
          "metadata": {
            "tags": []
          }
        },
        {
          "output_type": "display_data",
          "data": {
            "application/vnd.jupyter.widget-view+json": {
              "model_id": "bf247dd4a63640d7b7d2f3e8ba821abd",
              "version_minor": 0,
              "version_major": 2
            },
            "text/plain": [
              "VBox(children=(Label(value=' 0.00MB of 0.00MB uploaded (0.00MB deduped)\\r'), FloatProgress(value=1.0, max=1.0)…"
            ]
          },
          "metadata": {
            "tags": []
          }
        },
        {
          "output_type": "display_data",
          "data": {
            "text/html": [
              "Find user logs for this run at: <code>/content/wandb/run-20210623_124535-dgr4ww1k/logs/debug.log</code>"
            ],
            "text/plain": [
              "<IPython.core.display.HTML object>"
            ]
          },
          "metadata": {
            "tags": []
          }
        },
        {
          "output_type": "display_data",
          "data": {
            "text/html": [
              "Find internal logs for this run at: <code>/content/wandb/run-20210623_124535-dgr4ww1k/logs/debug-internal.log</code>"
            ],
            "text/plain": [
              "<IPython.core.display.HTML object>"
            ]
          },
          "metadata": {
            "tags": []
          }
        },
        {
          "output_type": "display_data",
          "data": {
            "text/html": [
              "<h3>Run summary:</h3><br/><style>\n",
              "    table.wandb td:nth-child(1) { padding: 0 10px; text-align: right }\n",
              "    </style><table class=\"wandb\">\n",
              "<tr><td>loss</td><td>0.25824</td></tr><tr><td>trainingaccuracy</td><td>0.56009</td></tr><tr><td>validationaccuracy</td><td>0.56783</td></tr><tr><td>epoch</td><td>4</td></tr><tr><td>_runtime</td><td>1187</td></tr><tr><td>_timestamp</td><td>1624453522</td></tr><tr><td>_step</td><td>4</td></tr></table>"
            ],
            "text/plain": [
              "<IPython.core.display.HTML object>"
            ]
          },
          "metadata": {
            "tags": []
          }
        },
        {
          "output_type": "display_data",
          "data": {
            "text/html": [
              "<h3>Run history:</h3><br/><style>\n",
              "    table.wandb td:nth-child(1) { padding: 0 10px; text-align: right }\n",
              "    </style><table class=\"wandb\">\n",
              "<tr><td>loss</td><td>█▇▅▃▁</td></tr><tr><td>trainingaccuracy</td><td>▁▅▆▇█</td></tr><tr><td>validationaccuracy</td><td>▁▅▆▇█</td></tr><tr><td>epoch</td><td>▁▃▅▆█</td></tr><tr><td>_runtime</td><td>▁▃▅▆█</td></tr><tr><td>_timestamp</td><td>▁▃▅▆█</td></tr><tr><td>_step</td><td>▁▃▅▆█</td></tr></table><br/>"
            ],
            "text/plain": [
              "<IPython.core.display.HTML object>"
            ]
          },
          "metadata": {
            "tags": []
          }
        },
        {
          "output_type": "display_data",
          "data": {
            "text/html": [
              "Synced 5 W&B file(s), 0 media file(s), 0 artifact file(s) and 0 other file(s)"
            ],
            "text/plain": [
              "<IPython.core.display.HTML object>"
            ]
          },
          "metadata": {
            "tags": []
          }
        },
        {
          "output_type": "display_data",
          "data": {
            "text/html": [
              "\n",
              "                    <br/>Synced <strong style=\"color:#cdcd00\">helpful-sweep-3</strong>: <a href=\"https://wandb.ai/abhilash-kar0/CS6910-Assignment1-1/runs/dgr4ww1k\" target=\"_blank\">https://wandb.ai/abhilash-kar0/CS6910-Assignment1-1/runs/dgr4ww1k</a><br/>\n",
              "                "
            ],
            "text/plain": [
              "<IPython.core.display.HTML object>"
            ]
          },
          "metadata": {
            "tags": []
          }
        },
        {
          "output_type": "stream",
          "text": [
            "\u001b[34m\u001b[1mwandb\u001b[0m: Agent Starting Run: giapjg83 with config:\n",
            "\u001b[34m\u001b[1mwandb\u001b[0m: \tactivation: tanh\n",
            "\u001b[34m\u001b[1mwandb\u001b[0m: \tbatch_size: 16\n",
            "\u001b[34m\u001b[1mwandb\u001b[0m: \tinitializer: xavier_init\n",
            "\u001b[34m\u001b[1mwandb\u001b[0m: \tlearning_rate: 0.001\n",
            "\u001b[34m\u001b[1mwandb\u001b[0m: \tmax_epochs: 10\n",
            "\u001b[34m\u001b[1mwandb\u001b[0m: \tnum_hidden_layers: 3\n",
            "\u001b[34m\u001b[1mwandb\u001b[0m: \tnum_hidden_neurons: 64\n",
            "\u001b[34m\u001b[1mwandb\u001b[0m: \toptimizer: sgd\n",
            "\u001b[34m\u001b[1mwandb\u001b[0m: \tweight_decay: 0.0005\n"
          ],
          "name": "stderr"
        },
        {
          "output_type": "display_data",
          "data": {
            "text/html": [
              "\n",
              "                Tracking run with wandb version 0.10.32<br/>\n",
              "                Syncing run <strong style=\"color:#cdcd00\">swift-sweep-4</strong> to <a href=\"https://wandb.ai\" target=\"_blank\">Weights & Biases</a> <a href=\"https://docs.wandb.com/integrations/jupyter.html\" target=\"_blank\">(Documentation)</a>.<br/>\n",
              "                Project page: <a href=\"https://wandb.ai/abhilash-kar0/CS6910-Assignment1-1\" target=\"_blank\">https://wandb.ai/abhilash-kar0/CS6910-Assignment1-1</a><br/>\n",
              "                Sweep page: <a href=\"https://wandb.ai/abhilash-kar0/CS6910-Assignment1-1/sweeps/w8u3uwy0\" target=\"_blank\">https://wandb.ai/abhilash-kar0/CS6910-Assignment1-1/sweeps/w8u3uwy0</a><br/>\n",
              "Run page: <a href=\"https://wandb.ai/abhilash-kar0/CS6910-Assignment1-1/runs/giapjg83\" target=\"_blank\">https://wandb.ai/abhilash-kar0/CS6910-Assignment1-1/runs/giapjg83</a><br/>\n",
              "                Run data is saved locally in <code>/content/wandb/run-20210623_130530-giapjg83</code><br/><br/>\n",
              "            "
            ],
            "text/plain": [
              "<IPython.core.display.HTML object>"
            ]
          },
          "metadata": {
            "tags": []
          }
        },
        {
          "output_type": "stream",
          "text": [
            "Epoch: 0, Loss: 3.320e-01, Training accuracy:0.71, Validation Accuracy: 0.73, Time: 172.35\n"
          ],
          "name": "stdout"
        }
      ]
    },
    {
      "cell_type": "markdown",
      "metadata": {
        "id": "xKlUPWiiF328"
      },
      "source": [
        "## Test on best model"
      ]
    },
    {
      "cell_type": "code",
      "metadata": {
        "id": "ETXpM_spQDVO"
      },
      "source": [
        "\n",
        "Example2 = NeuralNet(3,[128,128,128],train_images,train_labels,val_images,val_labels,test_images,test_labels,max_epochs=10,batch_size=32,weight_decay=0,learning_rate=0.001,activation = sigmoid,\n",
        "                    activation_deriv=deriv_sigmoid,optimizer = 'adam',initializer=xavier_init,loss=log_loss)"
      ],
      "execution_count": 9,
      "outputs": []
    },
    {
      "cell_type": "code",
      "metadata": {
        "colab": {
          "base_uri": "https://localhost:8080/",
          "height": 923,
          "referenced_widgets": [
            "265e2b00c97b485796b8cf2fabcbc036",
            "7c45be140c3b4970863b71f6435b2c34",
            "960a12a2152e48f7a7622776a04b950a",
            "b2f395c2d91346a380b3c84bf985de20",
            "7751103348e4428895bdc356d0cea0a1",
            "f53884ff073e46ad834acf349dacd1ee",
            "5fa822a158814b61a8835f42d607f080",
            "1b8e5b7464ed43f48fc62145b94e0b0c"
          ]
        },
        "id": "COSIf_XLmxiW",
        "outputId": "d17d9c63-ad83-4073-e3bd-ef866a9e1315"
      },
      "source": [
        "wandb.init()\n",
        "Example2.adam(10,train_images.shape[0])\n",
        "wandb.finish()"
      ],
      "execution_count": 12,
      "outputs": [
        {
          "output_type": "display_data",
          "data": {
            "application/javascript": [
              "\n",
              "        window._wandbApiKey = new Promise((resolve, reject) => {\n",
              "            function loadScript(url) {\n",
              "            return new Promise(function(resolve, reject) {\n",
              "                let newScript = document.createElement(\"script\");\n",
              "                newScript.onerror = reject;\n",
              "                newScript.onload = resolve;\n",
              "                document.body.appendChild(newScript);\n",
              "                newScript.src = url;\n",
              "            });\n",
              "            }\n",
              "            loadScript(\"https://cdn.jsdelivr.net/npm/postmate/build/postmate.min.js\").then(() => {\n",
              "            const iframe = document.createElement('iframe')\n",
              "            iframe.style.cssText = \"width:0;height:0;border:none\"\n",
              "            document.body.appendChild(iframe)\n",
              "            const handshake = new Postmate({\n",
              "                container: iframe,\n",
              "                url: 'https://wandb.ai/authorize'\n",
              "            });\n",
              "            const timeout = setTimeout(() => reject(\"Couldn't auto authenticate\"), 5000)\n",
              "            handshake.then(function(child) {\n",
              "                child.on('authorize', data => {\n",
              "                    clearTimeout(timeout)\n",
              "                    resolve(data)\n",
              "                });\n",
              "            });\n",
              "            })\n",
              "        });\n",
              "    "
            ],
            "text/plain": [
              "<IPython.core.display.Javascript object>"
            ]
          },
          "metadata": {
            "tags": []
          }
        },
        {
          "output_type": "stream",
          "text": [
            "\u001b[34m\u001b[1mwandb\u001b[0m: You can find your API key in your browser here: https://wandb.ai/authorize\n",
            "\u001b[34m\u001b[1mwandb\u001b[0m: Appending key for api.wandb.ai to your netrc file: /root/.netrc\n"
          ],
          "name": "stderr"
        },
        {
          "output_type": "display_data",
          "data": {
            "text/html": [
              "\n",
              "                Tracking run with wandb version 0.10.33<br/>\n",
              "                Syncing run <strong style=\"color:#cdcd00\">still-gorge-4</strong> to <a href=\"https://wandb.ai\" target=\"_blank\">Weights & Biases</a> <a href=\"https://docs.wandb.com/integrations/jupyter.html\" target=\"_blank\">(Documentation)</a>.<br/>\n",
              "                Project page: <a href=\"https://wandb.ai/abhilash-kar0/uncategorized\" target=\"_blank\">https://wandb.ai/abhilash-kar0/uncategorized</a><br/>\n",
              "                Run page: <a href=\"https://wandb.ai/abhilash-kar0/uncategorized/runs/229k3iar\" target=\"_blank\">https://wandb.ai/abhilash-kar0/uncategorized/runs/229k3iar</a><br/>\n",
              "                Run data is saved locally in <code>/content/wandb/run-20210630_160251-229k3iar</code><br/><br/>\n",
              "            "
            ],
            "text/plain": [
              "<IPython.core.display.HTML object>"
            ]
          },
          "metadata": {
            "tags": []
          }
        },
        {
          "output_type": "stream",
          "text": [
            "Epoch: 0, Loss: 9.772e-02, Training accuracy:0.87, Validation Accuracy: 0.86, Time: 230.84\n",
            "Epoch: 1, Loss: 9.234e-02, Training accuracy:0.88, Validation Accuracy: 0.87, Time: 220.70\n",
            "Epoch: 2, Loss: 8.992e-02, Training accuracy:0.89, Validation Accuracy: 0.88, Time: 219.62\n",
            "Epoch: 3, Loss: 8.847e-02, Training accuracy:0.89, Validation Accuracy: 0.88, Time: 216.14\n",
            "Epoch: 4, Loss: 8.753e-02, Training accuracy:0.90, Validation Accuracy: 0.88, Time: 216.66\n",
            "Epoch: 5, Loss: 8.687e-02, Training accuracy:0.90, Validation Accuracy: 0.88, Time: 219.40\n",
            "Epoch: 6, Loss: 8.640e-02, Training accuracy:0.91, Validation Accuracy: 0.88, Time: 217.26\n",
            "Epoch: 7, Loss: 8.606e-02, Training accuracy:0.91, Validation Accuracy: 0.88, Time: 221.71\n",
            "Epoch: 8, Loss: 8.580e-02, Training accuracy:0.91, Validation Accuracy: 0.88, Time: 214.87\n",
            "Epoch: 9, Loss: 8.561e-02, Training accuracy:0.91, Validation Accuracy: 0.88, Time: 214.21\n"
          ],
          "name": "stdout"
        },
        {
          "output_type": "display_data",
          "data": {
            "text/html": [
              "<br/>Waiting for W&B process to finish, PID 226<br/>Program ended successfully."
            ],
            "text/plain": [
              "<IPython.core.display.HTML object>"
            ]
          },
          "metadata": {
            "tags": []
          }
        },
        {
          "output_type": "display_data",
          "data": {
            "application/vnd.jupyter.widget-view+json": {
              "model_id": "265e2b00c97b485796b8cf2fabcbc036",
              "version_minor": 0,
              "version_major": 2
            },
            "text/plain": [
              "VBox(children=(Label(value=' 0.00MB of 0.00MB uploaded (0.00MB deduped)\\r'), FloatProgress(value=1.0, max=1.0)…"
            ]
          },
          "metadata": {
            "tags": []
          }
        },
        {
          "output_type": "display_data",
          "data": {
            "text/html": [
              "Find user logs for this run at: <code>/content/wandb/run-20210630_160251-229k3iar/logs/debug.log</code>"
            ],
            "text/plain": [
              "<IPython.core.display.HTML object>"
            ]
          },
          "metadata": {
            "tags": []
          }
        },
        {
          "output_type": "display_data",
          "data": {
            "text/html": [
              "Find internal logs for this run at: <code>/content/wandb/run-20210630_160251-229k3iar/logs/debug-internal.log</code>"
            ],
            "text/plain": [
              "<IPython.core.display.HTML object>"
            ]
          },
          "metadata": {
            "tags": []
          }
        },
        {
          "output_type": "display_data",
          "data": {
            "text/html": [
              "<h3>Run summary:</h3><br/><style>\n",
              "    table.wandb td:nth-child(1) { padding: 0 10px; text-align: right }\n",
              "    </style><table class=\"wandb\">\n",
              "<tr><td>loss</td><td>0.08561</td></tr><tr><td>trainingaccuracy</td><td>0.91217</td></tr><tr><td>validationaccuracy</td><td>0.88317</td></tr><tr><td>epoch</td><td>9</td></tr><tr><td>_runtime</td><td>2196</td></tr><tr><td>_timestamp</td><td>1625071167</td></tr><tr><td>_step</td><td>9</td></tr></table>"
            ],
            "text/plain": [
              "<IPython.core.display.HTML object>"
            ]
          },
          "metadata": {
            "tags": []
          }
        },
        {
          "output_type": "display_data",
          "data": {
            "text/html": [
              "<h3>Run history:</h3><br/><style>\n",
              "    table.wandb td:nth-child(1) { padding: 0 10px; text-align: right }\n",
              "    </style><table class=\"wandb\">\n",
              "<tr><td>loss</td><td>█▅▃▃▂▂▁▁▁▁</td></tr><tr><td>trainingaccuracy</td><td>▁▃▄▅▆▆▇▇██</td></tr><tr><td>validationaccuracy</td><td>▁▄▆▆▇█████</td></tr><tr><td>epoch</td><td>▁▂▃▃▄▅▆▆▇█</td></tr><tr><td>_runtime</td><td>▁▂▃▃▄▅▆▆▇█</td></tr><tr><td>_timestamp</td><td>▁▂▃▃▄▅▆▆▇█</td></tr><tr><td>_step</td><td>▁▂▃▃▄▅▆▆▇█</td></tr></table><br/>"
            ],
            "text/plain": [
              "<IPython.core.display.HTML object>"
            ]
          },
          "metadata": {
            "tags": []
          }
        },
        {
          "output_type": "display_data",
          "data": {
            "text/html": [
              "Synced 5 W&B file(s), 0 media file(s), 0 artifact file(s) and 0 other file(s)"
            ],
            "text/plain": [
              "<IPython.core.display.HTML object>"
            ]
          },
          "metadata": {
            "tags": []
          }
        },
        {
          "output_type": "display_data",
          "data": {
            "text/html": [
              "\n",
              "                    <br/>Synced <strong style=\"color:#cdcd00\">still-gorge-4</strong>: <a href=\"https://wandb.ai/abhilash-kar0/uncategorized/runs/229k3iar\" target=\"_blank\">https://wandb.ai/abhilash-kar0/uncategorized/runs/229k3iar</a><br/>\n",
              "                "
            ],
            "text/plain": [
              "<IPython.core.display.HTML object>"
            ]
          },
          "metadata": {
            "tags": []
          }
        }
      ]
    },
    {
      "cell_type": "code",
      "metadata": {
        "id": "B342-ud2nIXf"
      },
      "source": [
        "X_test  = test_images.reshape(test_images.shape[0],784,1 )/255\n",
        "y_test  = (OneHotEncoder().fit_transform(test_labels.reshape((-1,1)))).todense()\n",
        "\n",
        "prediction = Example2.predict(X_test)"
      ],
      "execution_count": 17,
      "outputs": []
    },
    {
      "cell_type": "code",
      "metadata": {
        "id": "x0ahDoFtm5og"
      },
      "source": [
        "\n",
        "pred = np.argmax(prediction,axis=1)\n",
        "acc = (np.sum(pred==test_labels.reshape(-1,1)))/len(test_labels)"
      ],
      "execution_count": 35,
      "outputs": []
    },
    {
      "cell_type": "code",
      "metadata": {
        "cellView": "form",
        "id": "DTQ0tjXNDT-F"
      },
      "source": [
        "#@title Confusion Matrix code\n",
        "# -*- coding: utf-8 -*-\n",
        "\"\"\"\n",
        "plot a pretty confusion matrix with seaborn\n",
        "Created on Mon Jun 25 14:17:37 2018\n",
        "@author: Wagner Cipriano - wagnerbhbr - gmail - CEFETMG / MMC\n",
        "REFerences:\n",
        "  https://www.mathworks.com/help/nnet/ref/plotconfusion.html\n",
        "  https://stackoverflow.com/questions/28200786/how-to-plot-scikit-learn-classification-report\n",
        "  https://stackoverflow.com/questions/5821125/how-to-plot-confusion-matrix-with-string-axis-rather-than-integer-in-python\n",
        "  https://www.programcreek.com/python/example/96197/seaborn.heatmap\n",
        "  https://stackoverflow.com/questions/19233771/sklearn-plot-confusion-matrix-with-labels/31720054\n",
        "  http://scikit-learn.org/stable/auto_examples/model_selection/plot_confusion_matrix.html#sphx-glr-auto-examples-model-selection-plot-confusion-matrix-py\n",
        "\"\"\"\n",
        "\n",
        "#imports\n",
        "from pandas import DataFrame\n",
        "import numpy as np\n",
        "import matplotlib.pyplot as plt\n",
        "import matplotlib.font_manager as fm\n",
        "from matplotlib.collections import QuadMesh\n",
        "import seaborn as sn\n",
        "\n",
        "\n",
        "def get_new_fig(fn, figsize=[9,9]):\n",
        "    \"\"\" Init graphics \"\"\"\n",
        "    fig1 = plt.figure(fn, figsize)\n",
        "    ax1 = fig1.gca()   #Get Current Axis\n",
        "    ax1.cla() # clear existing plot\n",
        "    return fig1, ax1\n",
        "#\n",
        "\n",
        "def configcell_text_and_colors(array_df, lin, col, oText, facecolors, posi, fz, fmt, show_null_values=0):\n",
        "    \"\"\"\n",
        "      config cell text and colors\n",
        "      and return text elements to add and to dell\n",
        "      @TODO: use fmt\n",
        "    \"\"\"\n",
        "    text_add = []; text_del = [];\n",
        "    cell_val = array_df[lin][col]\n",
        "    tot_all = array_df[-1][-1]\n",
        "    per = (float(cell_val) / tot_all) * 100\n",
        "    curr_column = array_df[:,col]\n",
        "    ccl = len(curr_column)\n",
        "\n",
        "    #last line  and/or last column\n",
        "    if(col == (ccl - 1)) or (lin == (ccl - 1)):\n",
        "        #tots and percents\n",
        "        if(cell_val != 0):\n",
        "            if(col == ccl - 1) and (lin == ccl - 1):\n",
        "                tot_rig = 0\n",
        "                for i in range(array_df.shape[0] - 1):\n",
        "                    tot_rig += array_df[i][i]\n",
        "                per_ok = (float(tot_rig) / cell_val) * 100\n",
        "            elif(col == ccl - 1):\n",
        "                tot_rig = array_df[lin][lin]\n",
        "                per_ok = (float(tot_rig) / cell_val) * 100\n",
        "            elif(lin == ccl - 1):\n",
        "                tot_rig = array_df[col][col]\n",
        "                per_ok = (float(tot_rig) / cell_val) * 100\n",
        "            per_err = 100 - per_ok\n",
        "        else:\n",
        "            per_ok = per_err = 0\n",
        "\n",
        "        per_ok_s = ['%.2f%%'%(per_ok), '100%'] [per_ok == 100]\n",
        "\n",
        "        #text to DEL\n",
        "        text_del.append(oText)\n",
        "\n",
        "        #text to ADD\n",
        "        font_prop = fm.FontProperties(weight='bold', size=fz)\n",
        "        text_kwargs = dict(color='w', ha=\"center\", va=\"center\", gid='sum', fontproperties=font_prop)\n",
        "        lis_txt = ['%d'%(cell_val), per_ok_s, '%.2f%%'%(per_err)]\n",
        "        lis_kwa = [text_kwargs]\n",
        "        dic = text_kwargs.copy(); dic['color'] = 'g'; lis_kwa.append(dic);\n",
        "        dic = text_kwargs.copy(); dic['color'] = 'r'; lis_kwa.append(dic);\n",
        "        lis_pos = [(oText._x, oText._y-0.3), (oText._x, oText._y), (oText._x, oText._y+0.3)]\n",
        "        for i in range(len(lis_txt)):\n",
        "            newText = dict(x=lis_pos[i][0], y=lis_pos[i][1], text=lis_txt[i], kw=lis_kwa[i])\n",
        "            #print 'lin: %s, col: %s, newText: %s' %(lin, col, newText)\n",
        "            text_add.append(newText)\n",
        "        #print '\\n'\n",
        "\n",
        "        #set background color for sum cells (last line and last column)\n",
        "        carr = [0.27, 0.30, 0.27, 1.0]\n",
        "        if(col == ccl - 1) and (lin == ccl - 1):\n",
        "            carr = [0.17, 0.20, 0.17, 1.0]\n",
        "        facecolors[posi] = carr\n",
        "\n",
        "    else:\n",
        "        if(per > 0):\n",
        "            txt = '%s\\n%.2f%%' %(cell_val, per)\n",
        "        else:\n",
        "            if(show_null_values == 0):\n",
        "                txt = ''\n",
        "            elif(show_null_values == 1):\n",
        "                txt = '0'\n",
        "            else:\n",
        "                txt = '0\\n0.0%'\n",
        "        oText.set_text(txt)\n",
        "\n",
        "        #main diagonal\n",
        "        if(col == lin):\n",
        "            #set color of the textin the diagonal to white\n",
        "            oText.set_color('w')\n",
        "            # set background color in the diagonal to blue\n",
        "            facecolors[posi] = [0.35, 0.8, 0.55, 1.0]\n",
        "        else:\n",
        "            oText.set_color('r')\n",
        "\n",
        "    return text_add, text_del\n",
        "#\n",
        "\n",
        "def insert_totals(df_cm):\n",
        "    \"\"\" insert total column and line (the last ones) \"\"\"\n",
        "    sum_col = []\n",
        "    for c in df_cm.columns:\n",
        "        sum_col.append( df_cm[c].sum() )\n",
        "    sum_lin = []\n",
        "    for item_line in df_cm.iterrows():\n",
        "        sum_lin.append( item_line[1].sum() )\n",
        "    df_cm['sum_lin'] = sum_lin\n",
        "    sum_col.append(np.sum(sum_lin))\n",
        "    df_cm.loc['sum_col'] = sum_col\n",
        "    #print ('\\ndf_cm:\\n', df_cm, '\\n\\b\\n')\n",
        "#\n",
        "\n",
        "def pretty_plot_confusion_matrix(df_cm, annot=True, cmap=\"Oranges\", fmt='.2f', fz=11,\n",
        "      lw=0.5, cbar=False, figsize=[8,8], show_null_values=0, pred_val_axis='y'):\n",
        "    \"\"\"\n",
        "      print conf matrix with default layout (like matlab)\n",
        "      params:\n",
        "        df_cm          dataframe (pandas) without totals\n",
        "        annot          print text in each cell\n",
        "        cmap           Oranges,Oranges_r,YlGnBu,Blues,RdBu, ... see:\n",
        "        fz             fontsize\n",
        "        lw             linewidth\n",
        "        pred_val_axis  where to show the prediction values (x or y axis)\n",
        "                        'col' or 'x': show predicted values in columns (x axis) instead lines\n",
        "                        'lin' or 'y': show predicted values in lines   (y axis)\n",
        "    \"\"\"\n",
        "    if(pred_val_axis in ('col', 'x')):\n",
        "        xlbl = 'Predicted'\n",
        "        ylbl = 'Actual'\n",
        "    else:\n",
        "        xlbl = 'Actual'\n",
        "        ylbl = 'Predicted'\n",
        "        df_cm = df_cm.T\n",
        "\n",
        "    # create \"Total\" column\n",
        "    insert_totals(df_cm)\n",
        "\n",
        "    #this is for print allways in the same window\n",
        "    fig, ax1 = get_new_fig('Conf matrix default', figsize)\n",
        "\n",
        "    #thanks for seaborn\n",
        "    ax = sn.heatmap(df_cm, annot=annot, annot_kws={\"size\": fz}, linewidths=lw, ax=ax1,\n",
        "                    cbar=cbar, cmap=cmap, linecolor='w', fmt=fmt)\n",
        "\n",
        "    #set ticklabels rotation\n",
        "    ax.set_xticklabels(ax.get_xticklabels(), rotation = 45, fontsize = 10)\n",
        "    ax.set_yticklabels(ax.get_yticklabels(), rotation = 25, fontsize = 10)\n",
        "\n",
        "    # Turn off all the ticks\n",
        "    for t in ax.xaxis.get_major_ticks():\n",
        "        t.tick1On = False\n",
        "        t.tick2On = False\n",
        "    for t in ax.yaxis.get_major_ticks():\n",
        "        t.tick1On = False\n",
        "        t.tick2On = False\n",
        "\n",
        "    #face colors list\n",
        "    quadmesh = ax.findobj(QuadMesh)[0]\n",
        "    facecolors = quadmesh.get_facecolors()\n",
        "\n",
        "    #iter in text elements\n",
        "    array_df = np.array( df_cm.to_records(index=False).tolist() )\n",
        "    text_add = []; text_del = [];\n",
        "    posi = -1 #from left to right, bottom to top.\n",
        "    for t in ax.collections[0].axes.texts: #ax.texts:\n",
        "        pos = np.array( t.get_position()) - [0.5,0.5]\n",
        "        lin = int(pos[1]); col = int(pos[0]);\n",
        "        posi += 1\n",
        "        #print ('>>> pos: %s, posi: %s, val: %s, txt: %s' %(pos, posi, array_df[lin][col], t.get_text()))\n",
        "\n",
        "        #set text\n",
        "        txt_res = configcell_text_and_colors(array_df, lin, col, t, facecolors, posi, fz, fmt, show_null_values)\n",
        "\n",
        "        text_add.extend(txt_res[0])\n",
        "        text_del.extend(txt_res[1])\n",
        "\n",
        "    #remove the old ones\n",
        "    for item in text_del:\n",
        "        item.remove()\n",
        "    #append the new ones\n",
        "    for item in text_add:\n",
        "        ax.text(item['x'], item['y'], item['text'], **item['kw'])\n",
        "\n",
        "    #titles and legends\n",
        "    ax.set_title('Confusion matrix')\n",
        "    ax.set_xlabel(xlbl)\n",
        "    ax.set_ylabel(ylbl)\n",
        "    plt.tight_layout()  #set layout slim\n",
        "    return plt\n",
        "#\n",
        "\n",
        "def plot_confusion_matrix_from_data(y_test, predictions, columns=None, annot=True, cmap=\"Oranges\",\n",
        "      fmt='.2f', fz=11, lw=0.5, cbar=False, figsize=[8,8], show_null_values=0, pred_val_axis='lin'):\n",
        "    \"\"\"\n",
        "        plot confusion matrix function with y_test (actual values) and predictions (predic),\n",
        "        whitout a confusion matrix yet\n",
        "    \"\"\"\n",
        "    from sklearn.metrics import confusion_matrix\n",
        "    from pandas import DataFrame\n",
        "\n",
        "    #data\n",
        "    if(not columns):\n",
        "        #labels axis integer:\n",
        "        ##columns = range(1, len(np.unique(y_test))+1)\n",
        "        #labels axis string:\n",
        "        from string import ascii_uppercase\n",
        "        columns = ['class %s' %(i) for i in list(ascii_uppercase)[0:len(np.unique(y_test))]]\n",
        "\n",
        "    confm = confusion_matrix(y_test, predictions)\n",
        "    cmap = 'Oranges';\n",
        "    fz = 11;\n",
        "    figsize=[9,9];\n",
        "    show_null_values = 2\n",
        "    df_cm = DataFrame(confm, index=columns, columns=columns)\n",
        "    return pretty_plot_confusion_matrix(df_cm, fz=fz, cmap=cmap, figsize=figsize, show_null_values=show_null_values, pred_val_axis=pred_val_axis)\n",
        "#\n",
        "\n",
        "\n",
        "\n",
        "#\n",
        "#TEST functions\n",
        "#\n",
        "def _test_cm():\n",
        "    #test function with confusion matrix done\n",
        "    array = np.array( [[13,  0,  1,  0,  2,  0],\n",
        "                       [ 0, 50,  2,  0, 10,  0],\n",
        "                       [ 0, 13, 16,  0,  0,  3],\n",
        "                       [ 0,  0,  0, 13,  1,  0],\n",
        "                       [ 0, 40,  0,  1, 15,  0],\n",
        "                       [ 0,  0,  0,  0,  0, 20]])\n",
        "    #get pandas dataframe\n",
        "    df_cm = DataFrame(array, index=range(1,7), columns=range(1,7))\n",
        "    #colormap: see this and choose your more dear\n",
        "    cmap = 'PuRd'\n",
        "    pretty_plot_confusion_matrix(df_cm, cmap=cmap)\n",
        "#\n",
        "\n",
        "def _test_data_class():\n",
        "    \"\"\" test function with y_test (actual values) and predictions (predic) \"\"\"\n",
        "    #data\n",
        "    y_test = np.array([1,2,3,4,5, 1,2,3,4,5, 1,2,3,4,5, 1,2,3,4,5, 1,2,3,4,5, 1,2,3,4,5, 1,2,3,4,5, 1,2,3,4,5, 1,2,3,4,5, 1,2,3,4,5, 1,2,3,4,5, 1,2,3,4,5, 1,2,3,4,5, 1,2,3,4,5, 1,2,3,4,5, 1,2,3,4,5, 1,2,3,4,5, 1,2,3,4,5, 1,2,3,4,5, 1,2,3,4,5, 1,2,3,4,5, 1,2,3,4,5])\n",
        "    predic = np.array([1,2,4,3,5, 1,2,4,3,5, 1,2,3,4,4, 1,4,3,4,5, 1,2,4,4,5, 1,2,4,4,5, 1,2,4,4,5, 1,2,4,4,5, 1,2,3,3,5, 1,2,3,3,5, 1,2,3,4,4, 1,2,3,4,1, 1,2,3,4,1, 1,2,3,4,1, 1,2,4,4,5, 1,2,4,4,5, 1,2,4,4,5, 1,2,4,4,5, 1,2,3,4,5, 1,2,3,4,5, 1,2,3,4,5, 1,2,3,4,5])\n",
        "    \"\"\"\n",
        "      Examples to validate output (confusion matrix plot)\n",
        "        actual: 5 and prediction 1   >>  3\n",
        "        actual: 2 and prediction 4   >>  1\n",
        "        actual: 3 and prediction 4   >>  10\n",
        "    \"\"\"\n",
        "    columns = []\n",
        "    annot = True;\n",
        "    cmap = 'Oranges';\n",
        "    fmt = '.2f'\n",
        "    lw = 0.5\n",
        "    cbar = False\n",
        "    show_null_values = 2\n",
        "    pred_val_axis = 'y'\n",
        "    #size::\n",
        "    fz = 12;\n",
        "    figsize = [9,9];\n",
        "    if(len(y_test) > 10):\n",
        "        fz=9; figsize=[14,14];\n",
        "    plot_confusion_matrix_from_data(y_test, predic, columns,\n",
        "      annot, cmap, fmt, fz, lw, cbar, figsize, show_null_values, pred_val_axis)\n",
        "#\n",
        "\n",
        "\n",
        "#\n",
        "\n"
      ],
      "execution_count": 37,
      "outputs": []
    },
    {
      "cell_type": "code",
      "metadata": {
        "id": "JV6TCZsSFK7S"
      },
      "source": [
        "class_names = [\n",
        "    ' T-shirt/top',\n",
        "    ' Trouser',\n",
        "    ' Pullover',\n",
        "    ' Dress',\n",
        "    ' Coat',\n",
        "    ' Sandal',\n",
        "    ' Shirt',\n",
        "    ' Sneaker',\n",
        "    ' Bag',\n",
        "    ' Ankle boot']"
      ],
      "execution_count": 40,
      "outputs": []
    },
    {
      "cell_type": "code",
      "metadata": {
        "colab": {
          "base_uri": "https://localhost:8080/",
          "height": 1000,
          "referenced_widgets": [
            "edca9aeab4744164b8049549c555ad2b",
            "524be8acf14645c6a88c0f553977b50f",
            "0e10f4fc320e4df78f9e35e430c235a8",
            "21808e863ded40739ab7ced23c314e69",
            "099181ee94de44adbe36364d79ba3375",
            "d25d4e917cbd4148bc962d2f67d06a5e",
            "20e6b9eae2dc4672bba5ff47e7b503f0",
            "10d6cecf8dfa46f9a716f132f90255ae"
          ]
        },
        "id": "HbfSNgawBxsp",
        "outputId": "52857201-b9a2-4cf4-dfe9-c5e24ec11b01"
      },
      "source": [
        "\n",
        "\n",
        "plt = plot_confusion_matrix_from_data(test_labels.reshape((-1,1)),pred,columns=class_names)\n",
        "wandb.init(project='CS6910-Assignment1-3')\n",
        "wandb.run.name = 'conf_matrix'\n",
        "wandb.log({'conf_matrix':wandb.Image(plt), 'test_acc' : acc})\n",
        "wandb.finish()"
      ],
      "execution_count": 41,
      "outputs": [
        {
          "output_type": "stream",
          "text": [
            "/usr/local/lib/python3.7/dist-packages/ipykernel_launcher.py:166: MatplotlibDeprecationWarning: \n",
            "The tick1On function was deprecated in Matplotlib 3.1 and will be removed in 3.3. Use Tick.tick1line.set_visible instead.\n",
            "/usr/local/lib/python3.7/dist-packages/ipykernel_launcher.py:167: MatplotlibDeprecationWarning: \n",
            "The tick2On function was deprecated in Matplotlib 3.1 and will be removed in 3.3. Use Tick.tick2line.set_visible instead.\n",
            "/usr/local/lib/python3.7/dist-packages/ipykernel_launcher.py:169: MatplotlibDeprecationWarning: \n",
            "The tick1On function was deprecated in Matplotlib 3.1 and will be removed in 3.3. Use Tick.tick1line.set_visible instead.\n",
            "/usr/local/lib/python3.7/dist-packages/ipykernel_launcher.py:170: MatplotlibDeprecationWarning: \n",
            "The tick2On function was deprecated in Matplotlib 3.1 and will be removed in 3.3. Use Tick.tick2line.set_visible instead.\n",
            "/usr/local/lib/python3.7/dist-packages/ipykernel_launcher.py:65: DeprecationWarning: In future, it will be an error for 'np.bool_' scalars to be interpreted as an index\n",
            "\u001b[34m\u001b[1mwandb\u001b[0m: Currently logged in as: \u001b[33mabhilash-kar0\u001b[0m (use `wandb login --relogin` to force relogin)\n"
          ],
          "name": "stderr"
        },
        {
          "output_type": "display_data",
          "data": {
            "text/html": [
              "\n",
              "                Tracking run with wandb version 0.10.33<br/>\n",
              "                Syncing run <strong style=\"color:#cdcd00\">sleek-grass-88</strong> to <a href=\"https://wandb.ai\" target=\"_blank\">Weights & Biases</a> <a href=\"https://docs.wandb.com/integrations/jupyter.html\" target=\"_blank\">(Documentation)</a>.<br/>\n",
              "                Project page: <a href=\"https://wandb.ai/abhilash-kar0/CS6910-Assignment1-3\" target=\"_blank\">https://wandb.ai/abhilash-kar0/CS6910-Assignment1-3</a><br/>\n",
              "                Run page: <a href=\"https://wandb.ai/abhilash-kar0/CS6910-Assignment1-3/runs/3duon0t5\" target=\"_blank\">https://wandb.ai/abhilash-kar0/CS6910-Assignment1-3/runs/3duon0t5</a><br/>\n",
              "                Run data is saved locally in <code>/content/wandb/run-20210630_180304-3duon0t5</code><br/><br/>\n",
              "            "
            ],
            "text/plain": [
              "<IPython.core.display.HTML object>"
            ]
          },
          "metadata": {
            "tags": []
          }
        },
        {
          "output_type": "display_data",
          "data": {
            "text/html": [
              "<br/>Waiting for W&B process to finish, PID 1420<br/>Program ended successfully."
            ],
            "text/plain": [
              "<IPython.core.display.HTML object>"
            ]
          },
          "metadata": {
            "tags": []
          }
        },
        {
          "output_type": "display_data",
          "data": {
            "application/vnd.jupyter.widget-view+json": {
              "model_id": "edca9aeab4744164b8049549c555ad2b",
              "version_minor": 0,
              "version_major": 2
            },
            "text/plain": [
              "VBox(children=(Label(value=' 0.10MB of 0.10MB uploaded (0.00MB deduped)\\r'), FloatProgress(value=1.0, max=1.0)…"
            ]
          },
          "metadata": {
            "tags": []
          }
        },
        {
          "output_type": "display_data",
          "data": {
            "text/html": [
              "Find user logs for this run at: <code>/content/wandb/run-20210630_180304-3duon0t5/logs/debug.log</code>"
            ],
            "text/plain": [
              "<IPython.core.display.HTML object>"
            ]
          },
          "metadata": {
            "tags": []
          }
        },
        {
          "output_type": "display_data",
          "data": {
            "text/html": [
              "Find internal logs for this run at: <code>/content/wandb/run-20210630_180304-3duon0t5/logs/debug-internal.log</code>"
            ],
            "text/plain": [
              "<IPython.core.display.HTML object>"
            ]
          },
          "metadata": {
            "tags": []
          }
        },
        {
          "output_type": "display_data",
          "data": {
            "text/html": [
              "<h3>Run summary:</h3><br/><style>\n",
              "    table.wandb td:nth-child(1) { padding: 0 10px; text-align: right }\n",
              "    </style><table class=\"wandb\">\n",
              "<tr><td>test_acc</td><td>0.8798</td></tr><tr><td>_runtime</td><td>4</td></tr><tr><td>_timestamp</td><td>1625076188</td></tr><tr><td>_step</td><td>0</td></tr></table>"
            ],
            "text/plain": [
              "<IPython.core.display.HTML object>"
            ]
          },
          "metadata": {
            "tags": []
          }
        },
        {
          "output_type": "display_data",
          "data": {
            "text/html": [
              "<h3>Run history:</h3><br/><style>\n",
              "    table.wandb td:nth-child(1) { padding: 0 10px; text-align: right }\n",
              "    </style><table class=\"wandb\">\n",
              "<tr><td>test_acc</td><td>▁</td></tr><tr><td>_runtime</td><td>▁</td></tr><tr><td>_timestamp</td><td>▁</td></tr><tr><td>_step</td><td>▁</td></tr></table><br/>"
            ],
            "text/plain": [
              "<IPython.core.display.HTML object>"
            ]
          },
          "metadata": {
            "tags": []
          }
        },
        {
          "output_type": "display_data",
          "data": {
            "text/html": [
              "Synced 4 W&B file(s), 1 media file(s), 0 artifact file(s) and 0 other file(s)"
            ],
            "text/plain": [
              "<IPython.core.display.HTML object>"
            ]
          },
          "metadata": {
            "tags": []
          }
        },
        {
          "output_type": "display_data",
          "data": {
            "text/html": [
              "\n",
              "                    <br/>Synced <strong style=\"color:#cdcd00\">sleek-grass-88</strong>: <a href=\"https://wandb.ai/abhilash-kar0/CS6910-Assignment1-3/runs/3duon0t5\" target=\"_blank\">https://wandb.ai/abhilash-kar0/CS6910-Assignment1-3/runs/3duon0t5</a><br/>\n",
              "                "
            ],
            "text/plain": [
              "<IPython.core.display.HTML object>"
            ]
          },
          "metadata": {
            "tags": []
          }
        },
        {
          "output_type": "display_data",
          "data": {
            "image/png": "[encoded data removed]",
            "text/plain": [
              "<Figure size 648x648 with 1 Axes>"
            ]
          },
          "metadata": {
            "tags": [],
            "needs_background": "light"
          }
        }
      ]
    },
    {
      "cell_type": "code",
      "metadata": {
        "colab": {
          "base_uri": "https://localhost:8080/"
        },
        "id": "e1AqvXIDBzCH",
        "outputId": "4376bc5d-74c0-4a46-ad1f-210a2ef9504e"
      },
      "source": [
        "acc"
      ],
      "execution_count": 42,
      "outputs": [
        {
          "output_type": "execute_result",
          "data": {
            "text/plain": [
              "0.8798"
            ]
          },
          "metadata": {
            "tags": []
          },
          "execution_count": 42
        }
      ]
    },
    {
      "cell_type": "code",
      "metadata": {
        "id": "0NkSmE2bCbon"
      },
      "source": [
        ""
      ],
      "execution_count": null,
      "outputs": []
    }
  ]
}