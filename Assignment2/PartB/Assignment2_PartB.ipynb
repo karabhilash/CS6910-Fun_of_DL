{
  "nbformat": 4,
  "nbformat_minor": 0,
  "metadata": {
    "colab": {
      "name": "Assignment2-PartB.ipynb",
      "provenance": [],
      "collapsed_sections": [],
      "authorship_tag": "ABX9TyOjAG3ob3DaylE0yesZVybS",
      "include_colab_link": true
    },
    "kernelspec": {
      "display_name": "Python 3",
      "name": "python3"
    },
    "language_info": {
      "name": "python"
    },
    "accelerator": "GPU"
  },
  "cells": [
    {
      "cell_type": "markdown",
      "metadata": {
        "id": "view-in-github",
        "colab_type": "text"
      },
      "source": [
        "<a href=\"https://colab.research.google.com/github/karabhilash/CS6910-Fun_of_DL/blob/main/Assignment2/PartB/Assignment2_PartB.ipynb\" target=\"_parent\"><img src=\"https://colab.research.google.com/assets/colab-badge.svg\" alt=\"Open In Colab\"/></a>"
      ]
    },
    {
      "cell_type": "code",
      "metadata": {
        "colab": {
          "base_uri": "https://localhost:8080/"
        },
        "id": "QZhFJpAIBEVw",
        "outputId": "b164be80-cdc1-47c4-91bc-a60f02e9ca98"
      },
      "source": [
        "import tensorflow as tf\n",
        "tf.test.is_gpu_available()"
      ],
      "execution_count": null,
      "outputs": [
        {
          "output_type": "stream",
          "text": [
            "WARNING:tensorflow:From <ipython-input-11-4a3f57d5652e>:2: is_gpu_available (from tensorflow.python.framework.test_util) is deprecated and will be removed in a future version.\n",
            "Instructions for updating:\n",
            "Use `tf.config.list_physical_devices('GPU')` instead.\n"
          ],
          "name": "stdout"
        },
        {
          "output_type": "execute_result",
          "data": {
            "text/plain": [
              "True"
            ]
          },
          "metadata": {
            "tags": []
          },
          "execution_count": 11
        }
      ]
    },
    {
      "cell_type": "code",
      "metadata": {
        "id": "bMtbyxltTNqw"
      },
      "source": [
        "import os\n",
        "\n",
        "import tensorflow as tf\n",
        "import numpy as np\n",
        "import matplotlib.pyplot as plt\n",
        "import keras\n",
        "\n",
        "# keras pre-trained models\n",
        "from keras.applications.inception_v3 import InceptionV3\n",
        "from keras.applications.inception_resnet_v2 import InceptionResNetV2 \n",
        "from keras.applications.resnet50 import ResNet50\n",
        "from keras.applications.xception import Xception\n",
        "from keras import layers\n",
        "from keras.layers import Dense, Flatten, Conv2D, Activation , GlobalAveragePooling2D,Dropout\n",
        "from keras.models import Sequential,  Model\n",
        "\n",
        "!pip install wandb"
      ],
      "execution_count": null,
      "outputs": []
    },
    {
      "cell_type": "code",
      "metadata": {
        "colab": {
          "base_uri": "https://localhost:8080/"
        },
        "id": "nyjSvWMb-85V",
        "outputId": "0db1f390-342e-4f48-c2cf-531202ec3396"
      },
      "source": [
        "from google.colab import drive\n",
        "drive.mount('/gdrive')\n",
        "!mkdir -p '/gdrive/My Drive/CS6910-A2/'\n",
        "%cd '/gdrive/My Drive/CS6910-A2/'"
      ],
      "execution_count": null,
      "outputs": [
        {
          "output_type": "stream",
          "text": [
            "Mounted at /gdrive\n",
            "/gdrive/My Drive/CS6910-A2\n"
          ],
          "name": "stdout"
        }
      ]
    },
    {
      "cell_type": "code",
      "metadata": {
        "id": "yDEmjwc_TWuk"
      },
      "source": [
        "\n",
        "\n",
        "\n",
        "!wget https://storage.googleapis.com/wandb_datasets/nature_12K.zip\n",
        "!unzip nature_12K.zip\n",
        "!rm nature_12K.zip\n"
      ],
      "execution_count": null,
      "outputs": []
    },
    {
      "cell_type": "code",
      "metadata": {
        "id": "5eNJCJS6TfjB"
      },
      "source": [
        "def build_model(neurons, num_classes,optimizer,base_model,image_height,image_width):\n",
        "    #ignore the last dense layer in base model. All base model have a average pooling layer prior to last layer with the name avg_pool\n",
        "    base = base_model(weights=\"imagenet\",include_top=False,pooling='avg')\n",
        "    # freeze base layers\n",
        "    for layer in base.layers:\n",
        "      layer.trainable = False\n",
        "    \n",
        "      \n",
        "    input = keras.Input(shape=(image_height,image_width,3))\n",
        "    x = base(input,training=False)#for avoiding fine-tuning the batch normalization layer,we run on inference mode\n",
        "\n",
        "    # attach a fine-tuning layer\n",
        "    x = Dense(neurons, activation='relu')(x)\n",
        "    x = Dropout(0.3)(x)\n",
        "    guesses = Dense(num_classes, activation='softmax')(x)\n",
        "\n",
        "    model = Model(inputs=input, outputs=guesses)\n",
        "    model.compile(optimizer=optimizer, loss='categorical_crossentropy', metrics=['accuracy'])\n",
        "    model.summary()\n",
        "    return model,base\n",
        "\n",
        "\n",
        "def fine_tune(model,base,magik_number):\n",
        "    for layer in base.layers[:magik_number]:\n",
        "      layer.trainable = False\n",
        "    for layer in base.layers[magik_number:]:\n",
        "      layer.trainable = True\n",
        "\n",
        "\n",
        "    model.compile(optimizer=keras.optimizers.Adam(1e-5), loss='categorical_crossentropy', metrics=['accuracy'])\n",
        "    model.summary()\n",
        "    return model\n",
        "\n"
      ],
      "execution_count": null,
      "outputs": []
    },
    {
      "cell_type": "code",
      "metadata": {
        "id": "Iee1BvMorBJp"
      },
      "source": [
        ""
      ],
      "execution_count": null,
      "outputs": []
    },
    {
      "cell_type": "code",
      "metadata": {
        "colab": {
          "base_uri": "https://localhost:8080/",
          "height": 121
        },
        "id": "I9LS9HTntaKW",
        "outputId": "f116a28b-d5b2-4e17-927b-685fb4862c85"
      },
      "source": [
        "\n",
        "import wandb\n",
        "from wandb.keras import WandbCallback\n",
        "\n",
        "sweep_config = {\n",
        "  \"method\": \"bayes\",\n",
        "  \"metric\":{\n",
        "  \"name\": \"val_accuracy\",\n",
        "  \"goal\": \"maximize\"\n",
        "  },\n",
        "  'early_terminate': {\n",
        "        'type':'hyperband',\n",
        "        'min_iter': 4, #since max_epochs =5\n",
        "        's': 1\n",
        "  },\n",
        "  \"parameters\": {\n",
        "        \n",
        "\n",
        "        \"data_augmentation\": {\n",
        "            \"values\": [True, False]\n",
        "        },\n",
        "        \"optimizer\": {\n",
        "            \"values\": [ \"adam\", \"rmsprop\"]\n",
        "        },\n",
        "\n",
        "        \"base_model\": {\n",
        "            \"values\": ['InceptionV3', 'InceptionResNetV2','ResNet50','Xception','NASNetLarge']\n",
        "        },\n",
        "        \"neurons\": {\n",
        "            \"values\": [128,256,512]\n",
        "        }\n",
        "\n",
        "    }\n",
        "}\n",
        "\n",
        "sweep_id = wandb.sweep(sweep_config,project='CS6910-Assignment2-1')\n",
        "\n"
      ],
      "execution_count": null,
      "outputs": [
        {
          "output_type": "display_data",
          "data": {
            "application/javascript": [
              "\n",
              "        window._wandbApiKey = new Promise((resolve, reject) => {\n",
              "            function loadScript(url) {\n",
              "            return new Promise(function(resolve, reject) {\n",
              "                let newScript = document.createElement(\"script\");\n",
              "                newScript.onerror = reject;\n",
              "                newScript.onload = resolve;\n",
              "                document.body.appendChild(newScript);\n",
              "                newScript.src = url;\n",
              "            });\n",
              "            }\n",
              "            loadScript(\"https://cdn.jsdelivr.net/npm/postmate/build/postmate.min.js\").then(() => {\n",
              "            const iframe = document.createElement('iframe')\n",
              "            iframe.style.cssText = \"width:0;height:0;border:none\"\n",
              "            document.body.appendChild(iframe)\n",
              "            const handshake = new Postmate({\n",
              "                container: iframe,\n",
              "                url: 'https://wandb.ai/authorize'\n",
              "            });\n",
              "            const timeout = setTimeout(() => reject(\"Couldn't auto authenticate\"), 5000)\n",
              "            handshake.then(function(child) {\n",
              "                child.on('authorize', data => {\n",
              "                    clearTimeout(timeout)\n",
              "                    resolve(data)\n",
              "                });\n",
              "            });\n",
              "            })\n",
              "        });\n",
              "    "
            ],
            "text/plain": [
              "<IPython.core.display.Javascript object>"
            ]
          },
          "metadata": {
            "tags": []
          }
        },
        {
          "output_type": "stream",
          "text": [
            "\u001b[34m\u001b[1mwandb\u001b[0m: You can find your API key in your browser here: https://wandb.ai/authorize\n"
          ],
          "name": "stderr"
        },
        {
          "output_type": "stream",
          "text": [
            "wandb: Paste an API key from your profile and hit enter: ··········\n"
          ],
          "name": "stdout"
        },
        {
          "output_type": "stream",
          "text": [
            "\u001b[34m\u001b[1mwandb\u001b[0m: Appending key for api.wandb.ai to your netrc file: /root/.netrc\n"
          ],
          "name": "stderr"
        },
        {
          "output_type": "stream",
          "text": [
            "Create sweep with ID: 89794rxn\n",
            "Sweep URL: https://wandb.ai/abhilash-kar0/CS6910-Assignment2-1/sweeps/89794rxn\n"
          ],
          "name": "stdout"
        }
      ]
    },
    {
      "cell_type": "code",
      "metadata": {
        "id": "3CBG95RnzDBK"
      },
      "source": [
        "model_dict = dict(zip(['InceptionV3', 'InceptionResNetV2','ResNet50','Xception'],[InceptionV3, InceptionResNetV2,ResNet50,Xception]))\n",
        "magic_num_dict = dict(zip(['InceptionV3', 'InceptionResNetV2','ResNet50','Xception'],[279,758,179,115]))"
      ],
      "execution_count": null,
      "outputs": []
    },
    {
      "cell_type": "code",
      "metadata": {
        "id": "vM-QFCR3kE0a"
      },
      "source": [
        "def ParamTuning():\n",
        "\n",
        "    conf_defaults=dict(\n",
        "        base_model = 'InceptionV3',\n",
        "        data_augmentation=True,\n",
        "        optimizer='adam',\n",
        "        neurons=256,\n",
        "        epochs=5,\n",
        "        batch_size=32\n",
        "    )\n",
        "    wandb.init(config=conf_defaults)\n",
        "    CONFIG = wandb.config\n",
        "\n",
        "\n",
        "    Img_height, Img_width= 224,224\n",
        "    num_classes=10\n",
        "\n",
        "\n",
        "\n",
        "    \n",
        "    \n",
        "    train_generator = None\n",
        "    if CONFIG.data_augmentation:\n",
        "        train_generator = tf.keras.preprocessing.image.ImageDataGenerator(\n",
        "            featurewise_center=False,\n",
        "            samplewise_center=False,\n",
        "            featurewise_std_normalization=False,\n",
        "            samplewise_std_normalization=False,\n",
        "            zca_whitening=False,\n",
        "            zca_epsilon=1e-06,\n",
        "            rotation_range=10,\n",
        "            width_shift_range=0.1,\n",
        "            height_shift_range=0.1,\n",
        "            brightness_range=None,\n",
        "            shear_range=0.1,\n",
        "            zoom_range=0.1,\n",
        "            channel_shift_range=0.0,\n",
        "            fill_mode=\"nearest\",\n",
        "            cval=0.0,\n",
        "            horizontal_flip=True,\n",
        "            vertical_flip=False,\n",
        "            rescale=1/255.0,\n",
        "            preprocessing_function=None,\n",
        "            data_format=None,\n",
        "            validation_split=0.1,\n",
        "            dtype=None,\n",
        "        )\n",
        "    else :\n",
        "        train_generator=  tf.keras.preprocessing.image.ImageDataGenerator(validation_split = 0.1,rescale=1/255.0)\n",
        "    test_generator=  tf.keras.preprocessing.image.ImageDataGenerator(rescale=1/255.0)\n",
        "\n",
        "\n",
        "    train_gen = train_generator.flow_from_directory(\n",
        "        './inaturalist_12K/train',\n",
        "        subset='training',\n",
        "        target_size=(Img_height, Img_width),\n",
        "        batch_size=CONFIG.batch_size,\n",
        "        class_mode='categorical')\n",
        "    val_gen = train_generator.flow_from_directory(\n",
        "        './inaturalist_12K/train',\n",
        "        subset='validation',\n",
        "        target_size=(Img_height, Img_width),\n",
        "        batch_size=CONFIG.batch_size,\n",
        "        class_mode='categorical')\n",
        "    test_gen = test_generator.flow_from_directory(\n",
        "        './inaturalist_12K/val',\n",
        "        target_size=(Img_height, Img_width),\n",
        "        batch_size=CONFIG.batch_size,\n",
        "        class_mode='categorical')\n",
        "    model,base = build_model(CONFIG.neurons,num_classes,CONFIG.optimizer,model_dict[CONFIG.base_model],Img_height, Img_width)\n",
        "    \n",
        "    h = model.fit(x=train_gen,validation_data = val_gen,\n",
        "                        steps_per_epoch = train_gen.samples // CONFIG.batch_size,\n",
        "                        validation_steps = val_gen.samples // CONFIG.batch_size,\n",
        "                        epochs = CONFIG.epochs, \n",
        "                        callbacks=[WandbCallback()])\n",
        "    #model.save('model'+str(CONFIG))\n",
        "    wandb.finish()\n",
        "    return h"
      ],
      "execution_count": null,
      "outputs": []
    },
    {
      "cell_type": "code",
      "metadata": {
        "id": "9xMlsW64O7du"
      },
      "source": [
        "def Finetuning():\n",
        "\n",
        "    conf_defaults=dict(\n",
        "        base_model = 'InceptionV3',\n",
        "        data_augmentation=True,\n",
        "        optimizer='adam',\n",
        "        neurons=256,\n",
        "        epochs=5,\n",
        "        batch_size=32\n",
        "    )\n",
        "    wandb.init(config=conf_defaults)\n",
        "    CONFIG = wandb.config\n",
        "\n",
        "\n",
        "    Img_height, Img_width= 224,224\n",
        "    num_classes=10\n",
        "\n",
        "\n",
        "    \n",
        "    \n",
        "    train_generator = None\n",
        "    if CONFIG.data_augmentation:\n",
        "        train_generator = tf.keras.preprocessing.image.ImageDataGenerator(\n",
        "            featurewise_center=False,\n",
        "            samplewise_center=False,\n",
        "            featurewise_std_normalization=False,\n",
        "            samplewise_std_normalization=False,\n",
        "            zca_whitening=False,\n",
        "            zca_epsilon=1e-06,\n",
        "            rotation_range=10,\n",
        "            width_shift_range=0.1,\n",
        "            height_shift_range=0.1,\n",
        "            brightness_range=None,\n",
        "            shear_range=0.1,\n",
        "            zoom_range=0.1,\n",
        "            channel_shift_range=0.0,\n",
        "            fill_mode=\"nearest\",\n",
        "            cval=0.0,\n",
        "            horizontal_flip=True,\n",
        "            vertical_flip=False,\n",
        "            rescale=1/255.0,\n",
        "            preprocessing_function=None,\n",
        "            data_format=None,\n",
        "            validation_split=0.1,\n",
        "            dtype=None,\n",
        "        )\n",
        "    else :\n",
        "        train_generator=  tf.keras.preprocessing.image.ImageDataGenerator(validation_split = 0.1,rescale=1/255.0)\n",
        "    test_generator=  tf.keras.preprocessing.image.ImageDataGenerator(rescale=1/255.0)\n",
        "\n",
        "\n",
        "    train_gen = train_generator.flow_from_directory(\n",
        "        './inaturalist_12K/train',\n",
        "        subset='training',\n",
        "        target_size=(Img_height, Img_width),\n",
        "        batch_size=CONFIG.batch_size,\n",
        "        class_mode='categorical')\n",
        "    val_gen = train_generator.flow_from_directory(\n",
        "        './inaturalist_12K/train',\n",
        "        subset='validation',\n",
        "        target_size=(Img_height, Img_width),\n",
        "        batch_size=CONFIG.batch_size,\n",
        "        class_mode='categorical')\n",
        "    test_gen = test_generator.flow_from_directory(\n",
        "        './inaturalist_12K/val',\n",
        "        target_size=(Img_height, Img_width),\n",
        "        batch_size=CONFIG.batch_size,\n",
        "        class_mode='categorical')\n",
        "    model,base = build_model(CONFIG.neurons,num_classes,CONFIG.optimizer,model_dict[CONFIG.base_model],Img_height, Img_width)\n",
        "    h = model.fit(x=train_gen,validation_data = val_gen,\n",
        "                        steps_per_epoch = train_gen.samples // CONFIG.batch_size,\n",
        "                        validation_steps = val_gen.samples // CONFIG.batch_size,\n",
        "                        epochs = CONFIG.epochs\n",
        "                        )\n",
        "    model = fine_tune(model,base,magic_num_dict[CONFIG.base_model])\n",
        "    h2 = model.fit(x=train_gen,validation_data = val_gen,\n",
        "                        steps_per_epoch = train_gen.samples // CONFIG.batch_size,\n",
        "                        validation_steps = val_gen.samples // CONFIG.batch_size,\n",
        "                        epochs = CONFIG.epochs, \n",
        "                        callbacks=[WandbCallback()])\n",
        "    #model.save('model'+str(CONFIG))\n",
        "    wandb.finish()\n",
        "    return h"
      ],
      "execution_count": null,
      "outputs": []
    },
    {
      "cell_type": "code",
      "metadata": {
        "id": "52dgNPs_WP8D"
      },
      "source": [
        "Finetuning()"
      ],
      "execution_count": null,
      "outputs": []
    },
    {
      "cell_type": "code",
      "metadata": {
        "id": "NtS6XLk4dCyX"
      },
      "source": [
        "ParamTuning()"
      ],
      "execution_count": null,
      "outputs": []
    },
    {
      "cell_type": "code",
      "metadata": {
        "id": "JcAdmbeSJ_gh"
      },
      "source": [
        "ParamTuning()"
      ],
      "execution_count": null,
      "outputs": []
    }
  ]
}